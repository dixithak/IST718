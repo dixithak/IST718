{
 "cells": [
  {
   "cell_type": "markdown",
   "metadata": {
    "deletable": false,
    "editable": false,
    "nbgrader": {
     "cell_type": "markdown",
     "checksum": "ce6a727b38f3fcc506cba517fa115c9d",
     "grade": false,
     "grade_id": "cell-b038e38b5e3072a9",
     "locked": true,
     "schema_version": 3,
     "solution": false
    }
   },
   "source": [
    "# IST 718: Big Data Analytics\n",
    "\n",
    "- Professor: Daniel Acuna <deacuna@syr.edu>\n",
    "\n",
    "## General instructions:\n",
    "\n",
    "- You are welcome to discuss the problems with your classmates but __you are not allowed to copy any part of your answers either from your classmates or from the internet__\n",
    "- You can put the homework files anywhere you want in your https://hub.ischool.syr.edu/ workspace but _do not change_ the file names. The TAs and the professor use these names to grade your homework.\n",
    "- Remove or comment out code that contains `raise NotImplementedError`. This is mainly to make the `assert` statement fail if nothing is submitted.\n",
    "- The tests shown in some cells (i.e., `assert` and `np.testing.` statements) are used to grade your answers. **However, the professor and TAs will use __additional__ test for your answer. Think about cases where your code should run even if it passess all the tests you see.**\n",
    "- Before downloading and submitting your work through Blackboard, remember to save and press `Validate` (or go to \n",
    "`Kernel`$\\rightarrow$`Restart and Run All`). \n",
    "- Good luck!"
   ]
  },
  {
   "cell_type": "code",
   "execution_count": 4,
   "metadata": {
    "deletable": false,
    "editable": false,
    "nbgrader": {
     "cell_type": "code",
     "checksum": "f2c7620f6ddaca0b8dfd5b191183fce5",
     "grade": false,
     "grade_id": "cell-6c54a5ae2ade0b80",
     "locked": true,
     "schema_version": 3,
     "solution": false
    }
   },
   "outputs": [],
   "source": [
    "# use only these packages\n",
    "import numpy as np\n",
    "import pandas as pd\n",
    "import matplotlib.pyplot as plt"
   ]
  },
  {
   "cell_type": "markdown",
   "metadata": {},
   "source": [
    "## Part 2. Basic Python programming"
   ]
  },
  {
   "cell_type": "markdown",
   "metadata": {},
   "source": [
    "**Question 2.1 (20 pts)** World War 3 has broken out somewhere in Siberia. You are trying to help the milarity decipher secret messages. \n",
    "\n",
    "Someone has told you that the following rules must be sequently applied to decipher a string `s` (**remember that character indices in `s` start from 0**)\n",
    "\n",
    "1. Keep only the characters at even index locations\n",
    "2. Move the last 3 characters from the result of step 1 into the front and the rest to the end\n",
    "3. Reverse the string from result of step 2 (i.e., make first character be last, second character be second to last, etc.)\n",
    "4. Make upper case letter be lower case, and vice versa from step 3\n",
    "\n",
    "Below, define a function `ww3_decipher` that performs these operations. Remember that a string is nothing more than a list of characters and can be accessed as such."
   ]
  },
  {
   "cell_type": "code",
   "execution_count": 5,
   "metadata": {
    "deletable": false,
    "nbgrader": {
     "cell_type": "code",
     "checksum": "4632b65cc6624556d106e594ca88f382",
     "grade": false,
     "grade_id": "cell-0f72fa5c5caed914",
     "locked": false,
     "schema_version": 3,
     "solution": true,
     "task": false
    }
   },
   "outputs": [],
   "source": [
    "# define the function ww3_decipher below\n",
    "def ww3_decipher(s):\n",
    "    # YOUR CODE HERE\n",
    "    #1 Keeping only chartacters at even index by using indexing\n",
    "    s = s[::2]\n",
    "    #2 Moving last 3 characters to front through negative indexing and concatenation\n",
    "    if(len(s) >= 3):\n",
    "        s = s[(len(s)-3):] + s[:(len(s)-3)]\n",
    "    #3 Reversing a string \n",
    "    # a) using negative indexing - does not work for string with lenght 2\n",
    "    # s = s[::-1]\n",
    "    # b) converting string to list\n",
    "    s = list(s)\n",
    "    s.reverse() #list reversal\n",
    "    s = ''.join(s) #joining the elements of a list back into string format.\n",
    "        \n",
    "    #4 Flippling upper and lower cases\n",
    "    s = s.swapcase()\n",
    "    #print(s)\n",
    "    return(s)\n"
   ]
  },
  {
   "cell_type": "markdown",
   "metadata": {},
   "source": [
    "Obviously, one character strings are simple to decipher:\n",
    "\n",
    "```python\n",
    "ww3_decipher('a')\n",
    "```\n",
    "```\n",
    ">> 'A'\n",
    "```\n",
    "\n",
    "But more complicated strings such `'E h O L L'` can be hard to decipher without the recipe. So let's apply the recipe:\n",
    "\n",
    "Input: `'E h O L L'`\n",
    "1. Step 1: `'EhOLL'`\n",
    "2. Step 2: `'OLLEh'`\n",
    "3. Step 3: `'hELLO'`\n",
    "4. Step 4: `'Hello'`\n",
    "\n",
    "So applying the function should return \"Hello\":\n",
    "\n",
    "```python\n",
    "ww3_decipher('E h O L L')\n",
    "```\n",
    "\n",
    "```\n",
    ">> 'Hello'\n",
    "```"
   ]
  },
  {
   "cell_type": "code",
   "execution_count": 6,
   "metadata": {},
   "outputs": [
    {
     "name": "stdout",
     "output_type": "stream",
     "text": [
      "Hello\n"
     ]
    }
   ],
   "source": [
    "# try it below\n",
    "ww3_decipher('E h O L L')\n",
    "\n",
    "print(ww3_decipher('E h O L L'))"
   ]
  },
  {
   "cell_type": "markdown",
   "metadata": {},
   "source": [
    "Let's try a more complicated one:\n",
    "\n",
    "Input: `'T Y L A N a   A T A d   G I b   : 8 1 7   t s i S C I'`\n",
    "1. Step 1. `'TYLANa ATAd GIb :817 tsiSCI'`\n",
    "2. Step 2. `'SCITYLANa ATAd GIb :817 tsi'`\n",
    "3. Step 3. `'ist 718: bIG dATA aNALYTICS'`\n",
    "4. Step 4. `'IST 718: Big Data Analytics'`"
   ]
  },
  {
   "cell_type": "code",
   "execution_count": 7,
   "metadata": {},
   "outputs": [
    {
     "name": "stdout",
     "output_type": "stream",
     "text": [
      "IST 718: Big Data Analytics\n"
     ]
    }
   ],
   "source": [
    "# try your code below\n",
    "print(ww3_decipher('T Y L A N a   A T A d   G I b   : 8 1 7   t s i S C I'))"
   ]
  },
  {
   "cell_type": "code",
   "execution_count": 8,
   "metadata": {},
   "outputs": [
    {
     "name": "stdout",
     "output_type": "stream",
     "text": [
      "This is a longer test\n",
      "Always crossvalidate!\n",
      "The Matrix is everywhere. It is all around us. Even now, in this very room. You can see it when you look out your window or when you turn on your television. You can feel it when you go to work... when you go to church... when you pay your taxes. It is the world that has been pulled over your eyes to blind you from the truth.\n"
     ]
    }
   ],
   "source": [
    "# try other examples\n",
    "print(ww3_decipher('T   R E G N O L   A   S I   S I H t T S E'))\n",
    "print(ww3_decipher('A D I L A V S S O R C   S Y A W L a ! E T'))\n",
    "print(ww3_decipher('U R T   E H T   M O R F   U O Y   D N I L B   O T   S E Y E   R U O Y   R E V O   D E L L U P   N E E B   S A H   T A H T   D L R O W   E H T   S I   T i   . S E X A T   R U O Y   Y A P   U O Y   N E H W   . . . H C R U H C   O T   O G   U O Y   N E H W   . . . K R O W   O T   O G   U O Y   N E H W   T I   L E E F   N A C   U O y   . N O I S I V E L E T   R U O Y   N O   N R U T   U O Y   N E H W   R O   W O D N I W   R U O Y   T U O   K O O L   U O Y   N E H W   T I   E E S   N A C   U O y   . M O O R   Y R E V   S I H T   N I   , W O N   N E V e   . S U   D N U O R A   L L A   S I   T i   . E R E H W Y R E V E   S I   X I R T A m   E H t . H T'))"
   ]
  },
  {
   "cell_type": "markdown",
   "metadata": {},
   "source": [
    "The tests below need to pass to get your grade."
   ]
  },
  {
   "cell_type": "code",
   "execution_count": 9,
   "metadata": {
    "deletable": false,
    "editable": false,
    "nbgrader": {
     "cell_type": "code",
     "checksum": "ac5ceaa7038ee1e01ab07a0c2f5b3bbb",
     "grade": true,
     "grade_id": "cell-772102d34c8b0a86",
     "locked": true,
     "points": 20,
     "schema_version": 3,
     "solution": false,
     "task": false
    }
   },
   "outputs": [],
   "source": [
    "# 20 pts\n",
    "np.testing.assert_equal(ww3_decipher('a'), 'A')\n",
    "np.testing.assert_equal(ww3_decipher('A'), 'a')\n",
    "np.testing.assert_equal(ww3_decipher('0 2'), '20')\n",
    "np.testing.assert_equal(ww3_decipher('6 5 4 3 2 1 0 9 8 7'), '0123456789')\n",
    "np.testing.assert_equal(ww3_decipher('U G N A L   G N I M M A R G O R P   Y N A   R O   , r   , N O H T Y p E G A'), \n",
    "                       \"Python, R, or any programming language\")"
   ]
  },
  {
   "cell_type": "markdown",
   "metadata": {},
   "source": [
    "**Question 2.2 (15 pts)** Following the recipe for deciphering a message, write the cipher of a message below and call it `ww3_cipher`. **To reverse step 1, simply add blank spaces to the string.**"
   ]
  },
  {
   "cell_type": "code",
   "execution_count": 10,
   "metadata": {
    "deletable": false,
    "nbgrader": {
     "cell_type": "code",
     "checksum": "43b0e122a4b767000791b48a20be7090",
     "grade": false,
     "grade_id": "cell-48471c8515aa4e5c",
     "locked": false,
     "schema_version": 3,
     "solution": true
    }
   },
   "outputs": [],
   "source": [
    "# create the function ww3_cipher below\n",
    "def ww3_cipher(s):\n",
    "    # YOUR CODE HERE\n",
    "    #1 Change cases of string\n",
    "    s = s.swapcase()\n",
    "    #2 Reverse string : converting a string to list \n",
    "    s = list(s)\n",
    "    s.reverse() #list reversal\n",
    "    s = ''.join(s) #joining the elements of a list back into string format.\n",
    "    #3 Bring first 3 letters to last 3 only if length is >3 \n",
    "    if len(s)>= 3: \n",
    "        s = s[3:len(s)]+s[0:3]\n",
    "    #4 adding blank spaces to string only if length is > 1\n",
    "    if len(s) > 1 :\n",
    "        s = s.replace('',' ') #adding blank spaces all throughout the string\n",
    "        s = s.strip() #Removing blank spaces at the begining and end that were previously added\n",
    "    return s\n",
    "    #raise NotImplementedError()"
   ]
  },
  {
   "cell_type": "markdown",
   "metadata": {},
   "source": [
    "An obvious way of testing if this works is that `ww3_decipher(ww3_cipher(s)) == s` for any string s. This is, the deciphering of a ciphered string s should be the same string s.\n",
    "\n",
    "```python\n",
    "print(\"Hello world!\")\n",
    "print(ww3_decipher(ww3_cipher(\"Hello world!\")))\n",
    "```\n",
    "\n",
    "```\n",
    " Hello world!\n",
    " Hello world!\n",
    "```"
   ]
  },
  {
   "cell_type": "markdown",
   "metadata": {},
   "source": [
    "Have fun ciphering messages!\n",
    "\n",
    "```python\n",
    "print(ww3_cipher(\"This is an ultrasecret message\"))\n",
    "```\n",
    "\n",
    "```\n",
    "S S E M   T E R C E S A R T L U   N A   S I   S I H t E G A\n",
    "```"
   ]
  },
  {
   "cell_type": "code",
   "execution_count": 11,
   "metadata": {},
   "outputs": [
    {
     "name": "stdout",
     "output_type": "stream",
     "text": [
      "Hello world!\n"
     ]
    }
   ],
   "source": [
    "# try your code below\n",
    "print(ww3_decipher(ww3_cipher(\"Hello world!\")))"
   ]
  },
  {
   "cell_type": "code",
   "execution_count": 12,
   "metadata": {
    "deletable": false,
    "editable": false,
    "nbgrader": {
     "cell_type": "code",
     "checksum": "b2e2b5ae7ce50e90b49ff3c289c9bf36",
     "grade": true,
     "grade_id": "cell-fc6a0f4ea3e7d63d",
     "locked": true,
     "points": 15,
     "schema_version": 3,
     "solution": false
    }
   },
   "outputs": [],
   "source": [
    "# 15 pts\n",
    "np.testing.assert_equal(ww3_cipher('A'), 'a')\n",
    "np.testing.assert_equal(ww3_cipher('a'), 'A')\n",
    "np.testing.assert_equal(ww3_cipher('20'), '0 2')\n",
    "np.testing.assert_equal(ww3_cipher('0123456789'), '6 5 4 3 2 1 0 9 8 7')\n",
    "np.testing.assert_equal(ww3_cipher(\"Python, R, or any programming language\"), \n",
    "                       'U G N A L   G N I M M A R G O R P   Y N A   R O   , r   , N O H T Y p E G A')"
   ]
  },
  {
   "cell_type": "markdown",
   "metadata": {},
   "source": [
    "## Matplotlib and Pandas"
   ]
  },
  {
   "cell_type": "code",
   "execution_count": 13,
   "metadata": {},
   "outputs": [],
   "source": [
    "# import needed packages\n",
    "import matplotlib.pyplot as plt\n",
    "import numpy as np\n",
    "import pandas as pd"
   ]
  },
  {
   "cell_type": "markdown",
   "metadata": {},
   "source": [
    "Use the following dataset"
   ]
  },
  {
   "cell_type": "code",
   "execution_count": 14,
   "metadata": {
    "deletable": false,
    "editable": false,
    "nbgrader": {
     "cell_type": "code",
     "checksum": "d644d840a566aca10f8a55ddc4eb86e2",
     "grade": false,
     "grade_id": "cell-911f6ddec956c988",
     "locked": true,
     "schema_version": 3,
     "solution": false,
     "task": false
    }
   },
   "outputs": [
    {
     "data": {
      "text/html": [
       "<div>\n",
       "<style scoped>\n",
       "    .dataframe tbody tr th:only-of-type {\n",
       "        vertical-align: middle;\n",
       "    }\n",
       "\n",
       "    .dataframe tbody tr th {\n",
       "        vertical-align: top;\n",
       "    }\n",
       "\n",
       "    .dataframe thead th {\n",
       "        text-align: right;\n",
       "    }\n",
       "</style>\n",
       "<table border=\"1\" class=\"dataframe\">\n",
       "  <thead>\n",
       "    <tr style=\"text-align: right;\">\n",
       "      <th></th>\n",
       "      <th>AGE</th>\n",
       "      <th>SEX</th>\n",
       "      <th>BMI</th>\n",
       "      <th>BP</th>\n",
       "      <th>S1</th>\n",
       "      <th>S2</th>\n",
       "      <th>S3</th>\n",
       "      <th>S4</th>\n",
       "      <th>S5</th>\n",
       "      <th>S6</th>\n",
       "      <th>Y</th>\n",
       "    </tr>\n",
       "  </thead>\n",
       "  <tbody>\n",
       "    <tr>\n",
       "      <th>0</th>\n",
       "      <td>59</td>\n",
       "      <td>2</td>\n",
       "      <td>32.1</td>\n",
       "      <td>101.00</td>\n",
       "      <td>157</td>\n",
       "      <td>93.2</td>\n",
       "      <td>38.0</td>\n",
       "      <td>4.00</td>\n",
       "      <td>4.8598</td>\n",
       "      <td>87</td>\n",
       "      <td>151</td>\n",
       "    </tr>\n",
       "    <tr>\n",
       "      <th>1</th>\n",
       "      <td>48</td>\n",
       "      <td>1</td>\n",
       "      <td>21.6</td>\n",
       "      <td>87.00</td>\n",
       "      <td>183</td>\n",
       "      <td>103.2</td>\n",
       "      <td>70.0</td>\n",
       "      <td>3.00</td>\n",
       "      <td>3.8918</td>\n",
       "      <td>69</td>\n",
       "      <td>75</td>\n",
       "    </tr>\n",
       "    <tr>\n",
       "      <th>2</th>\n",
       "      <td>72</td>\n",
       "      <td>2</td>\n",
       "      <td>30.5</td>\n",
       "      <td>93.00</td>\n",
       "      <td>156</td>\n",
       "      <td>93.6</td>\n",
       "      <td>41.0</td>\n",
       "      <td>4.00</td>\n",
       "      <td>4.6728</td>\n",
       "      <td>85</td>\n",
       "      <td>141</td>\n",
       "    </tr>\n",
       "    <tr>\n",
       "      <th>3</th>\n",
       "      <td>24</td>\n",
       "      <td>1</td>\n",
       "      <td>25.3</td>\n",
       "      <td>84.00</td>\n",
       "      <td>198</td>\n",
       "      <td>131.4</td>\n",
       "      <td>40.0</td>\n",
       "      <td>5.00</td>\n",
       "      <td>4.8903</td>\n",
       "      <td>89</td>\n",
       "      <td>206</td>\n",
       "    </tr>\n",
       "    <tr>\n",
       "      <th>4</th>\n",
       "      <td>50</td>\n",
       "      <td>1</td>\n",
       "      <td>23.0</td>\n",
       "      <td>101.00</td>\n",
       "      <td>192</td>\n",
       "      <td>125.4</td>\n",
       "      <td>52.0</td>\n",
       "      <td>4.00</td>\n",
       "      <td>4.2905</td>\n",
       "      <td>80</td>\n",
       "      <td>135</td>\n",
       "    </tr>\n",
       "    <tr>\n",
       "      <th>...</th>\n",
       "      <td>...</td>\n",
       "      <td>...</td>\n",
       "      <td>...</td>\n",
       "      <td>...</td>\n",
       "      <td>...</td>\n",
       "      <td>...</td>\n",
       "      <td>...</td>\n",
       "      <td>...</td>\n",
       "      <td>...</td>\n",
       "      <td>...</td>\n",
       "      <td>...</td>\n",
       "    </tr>\n",
       "    <tr>\n",
       "      <th>437</th>\n",
       "      <td>60</td>\n",
       "      <td>2</td>\n",
       "      <td>28.2</td>\n",
       "      <td>112.00</td>\n",
       "      <td>185</td>\n",
       "      <td>113.8</td>\n",
       "      <td>42.0</td>\n",
       "      <td>4.00</td>\n",
       "      <td>4.9836</td>\n",
       "      <td>93</td>\n",
       "      <td>178</td>\n",
       "    </tr>\n",
       "    <tr>\n",
       "      <th>438</th>\n",
       "      <td>47</td>\n",
       "      <td>2</td>\n",
       "      <td>24.9</td>\n",
       "      <td>75.00</td>\n",
       "      <td>225</td>\n",
       "      <td>166.0</td>\n",
       "      <td>42.0</td>\n",
       "      <td>5.00</td>\n",
       "      <td>4.4427</td>\n",
       "      <td>102</td>\n",
       "      <td>104</td>\n",
       "    </tr>\n",
       "    <tr>\n",
       "      <th>439</th>\n",
       "      <td>60</td>\n",
       "      <td>2</td>\n",
       "      <td>24.9</td>\n",
       "      <td>99.67</td>\n",
       "      <td>162</td>\n",
       "      <td>106.6</td>\n",
       "      <td>43.0</td>\n",
       "      <td>3.77</td>\n",
       "      <td>4.1271</td>\n",
       "      <td>95</td>\n",
       "      <td>132</td>\n",
       "    </tr>\n",
       "    <tr>\n",
       "      <th>440</th>\n",
       "      <td>36</td>\n",
       "      <td>1</td>\n",
       "      <td>30.0</td>\n",
       "      <td>95.00</td>\n",
       "      <td>201</td>\n",
       "      <td>125.2</td>\n",
       "      <td>42.0</td>\n",
       "      <td>4.79</td>\n",
       "      <td>5.1299</td>\n",
       "      <td>85</td>\n",
       "      <td>220</td>\n",
       "    </tr>\n",
       "    <tr>\n",
       "      <th>441</th>\n",
       "      <td>36</td>\n",
       "      <td>1</td>\n",
       "      <td>19.6</td>\n",
       "      <td>71.00</td>\n",
       "      <td>250</td>\n",
       "      <td>133.2</td>\n",
       "      <td>97.0</td>\n",
       "      <td>3.00</td>\n",
       "      <td>4.5951</td>\n",
       "      <td>92</td>\n",
       "      <td>57</td>\n",
       "    </tr>\n",
       "  </tbody>\n",
       "</table>\n",
       "<p>442 rows × 11 columns</p>\n",
       "</div>"
      ],
      "text/plain": [
       "     AGE  SEX   BMI      BP   S1     S2    S3    S4      S5   S6    Y\n",
       "0     59    2  32.1  101.00  157   93.2  38.0  4.00  4.8598   87  151\n",
       "1     48    1  21.6   87.00  183  103.2  70.0  3.00  3.8918   69   75\n",
       "2     72    2  30.5   93.00  156   93.6  41.0  4.00  4.6728   85  141\n",
       "3     24    1  25.3   84.00  198  131.4  40.0  5.00  4.8903   89  206\n",
       "4     50    1  23.0  101.00  192  125.4  52.0  4.00  4.2905   80  135\n",
       "..   ...  ...   ...     ...  ...    ...   ...   ...     ...  ...  ...\n",
       "437   60    2  28.2  112.00  185  113.8  42.0  4.00  4.9836   93  178\n",
       "438   47    2  24.9   75.00  225  166.0  42.0  5.00  4.4427  102  104\n",
       "439   60    2  24.9   99.67  162  106.6  43.0  3.77  4.1271   95  132\n",
       "440   36    1  30.0   95.00  201  125.2  42.0  4.79  5.1299   85  220\n",
       "441   36    1  19.6   71.00  250  133.2  97.0  3.00  4.5951   92   57\n",
       "\n",
       "[442 rows x 11 columns]"
      ]
     },
     "execution_count": 14,
     "metadata": {},
     "output_type": "execute_result"
    }
   ],
   "source": [
    "# Load the data\n",
    "diabetes_data = pd.read_table('diabetes.tab.txt')\n",
    "diabetes_data"
   ]
  },
  {
   "attachments": {
    "image.png": {
     "image/png": "[encoded data removed]"
    }
   },
   "cell_type": "markdown",
   "metadata": {},
   "source": [
    "**Question 2.3: (5 pts)** Below, plot the histogram of Y (disease progression) for `SEX` equal to 2 (male). Use Pandas to do the plotting\n",
    "\n",
    "Your result should look like\n",
    "\n",
    "![image.png](attachment:image.png)"
   ]
  },
  {
   "cell_type": "code",
   "execution_count": 16,
   "metadata": {
    "deletable": false,
    "nbgrader": {
     "cell_type": "code",
     "checksum": "de914d5b824d3fbde54a41a1a3250d9d",
     "grade": true,
     "grade_id": "cell-7990846e56e9d7cc",
     "locked": false,
     "points": 5,
     "schema_version": 3,
     "solution": true
    }
   },
   "outputs": [
    {
     "data": {
      "text/plain": [
       "<matplotlib.legend.Legend at 0x7f4cbf353fa0>"
      ]
     },
     "execution_count": 16,
     "metadata": {},
     "output_type": "execute_result"
    },
    {
     "data": {
      "image/png": "[encoded data removed]",
      "text/plain": [
       "<Figure size 432x288 with 1 Axes>"
      ]
     },
     "metadata": {
      "needs_background": "light"
     },
     "output_type": "display_data"
    }
   ],
   "source": [
    "# 5 pts\n",
    "diabetes_data.Y[diabetes_data.SEX == 2].plot(x='Y',kind =\"hist\")\n",
    "plt.legend()\n",
    "\n",
    "# YOUR CODE HERE\n",
    "#raise NotImplementedError()"
   ]
  },
  {
   "attachments": {
    "image.png": {
     "image/png": "[encoded data removed]"
    }
   },
   "cell_type": "markdown",
   "metadata": {},
   "source": [
    "**Question 2.4:** (5 pts) Produce one scatter plot using Pandas functionality to depic the relationship between `BMI` and `Y`. Use red color for women (`SEX == 1`) and blue color for men (`SEX == 2`). With matplotlib `plt.legend` function, add a legend that specifies which color corresponds to which gender.\n",
    "\n",
    "![image.png](attachment:image.png)\n"
   ]
  },
  {
   "cell_type": "code",
   "execution_count": 33,
   "metadata": {
    "deletable": false,
    "nbgrader": {
     "cell_type": "code",
     "checksum": "cb90ab4f2e303a27bf0c258cd288c987",
     "grade": true,
     "grade_id": "cell-5a1bc116d42d9d54",
     "locked": false,
     "points": 5,
     "schema_version": 3,
     "solution": true,
     "task": false
    }
   },
   "outputs": [
    {
     "data": {
      "text/plain": [
       "<matplotlib.legend.Legend at 0x7f8baa0b5160>"
      ]
     },
     "execution_count": 33,
     "metadata": {},
     "output_type": "execute_result"
    },
    {
     "data": {
      "image/png": "[encoded data removed]",
      "text/plain": [
       "<Figure size 432x288 with 1 Axes>"
      ]
     },
     "metadata": {
      "needs_background": "light"
     },
     "output_type": "display_data"
    }
   ],
   "source": [
    "# 5 pts\n",
    "# YOUR CODE HERE\n",
    "#raise NotImplementedError()\n",
    "ax = plt.subplot()\n",
    "diabetes_data.query(\"SEX==1\").plot(x='BMI',y='Y',kind='scatter',color='r',ax=ax,label=\"Women\")\n",
    "diabetes_data.query(\"SEX==2\").plot(x='BMI',y='Y',kind='scatter',color='b',ax=ax,label=\"Men\")\n",
    "plt.legend()\n",
    "\n"
   ]
  },
  {
   "cell_type": "markdown",
   "metadata": {},
   "source": [
    "**Question 2.5:** (5 pts): Use the Pandas DataFrame functionality to compute the mean AGE and BMI and put them in variables `avg_age` and `avg_bmi`"
   ]
  },
  {
   "cell_type": "code",
   "execution_count": 14,
   "metadata": {
    "deletable": false,
    "nbgrader": {
     "cell_type": "code",
     "checksum": "d2b18d87c25b3b9d7137524e8dac13a6",
     "grade": false,
     "grade_id": "cell-aa8ea4eae878a704",
     "locked": false,
     "schema_version": 3,
     "solution": true
    }
   },
   "outputs": [],
   "source": [
    "# Create the variables avg_age, and avg_bmi below\n",
    "# YOUR CODE HERE\n",
    "#raise NotImplementedError()\n",
    "avg_age = diabetes_data.AGE.mean()\n",
    "#avg_age\n",
    "avg_bmi = diabetes_data.BMI.mean()\n",
    "#avg_bmi"
   ]
  },
  {
   "cell_type": "code",
   "execution_count": 15,
   "metadata": {
    "deletable": false,
    "editable": false,
    "nbgrader": {
     "cell_type": "code",
     "checksum": "1157e9a963a44703a5b2824fd60e33d7",
     "grade": true,
     "grade_id": "cell-3754ac35fe34111a",
     "locked": true,
     "points": 5,
     "schema_version": 3,
     "solution": false
    }
   },
   "outputs": [],
   "source": [
    "# 5 pts\n",
    "np.testing.assert_approx_equal(avg_age, 48.51, significant=1)\n",
    "np.testing.assert_approx_equal(avg_bmi, 26.37, significant=1)"
   ]
  },
  {
   "cell_type": "markdown",
   "metadata": {},
   "source": [
    "**Question 2.6:** (5 pts) Create a new dataframe `diabetes_data2` with standardized `AGE` and `BMI` from the dataframe `diabetes_data`. Standardization is the process of subtracting the mean of a feature and dividing the result by the standard deviation of the feature. Use the `apply` method of a dataframe to apply a function to the age and bmi series to achieve this result"
   ]
  },
  {
   "cell_type": "code",
   "execution_count": 16,
   "metadata": {
    "deletable": false,
    "nbgrader": {
     "cell_type": "code",
     "checksum": "b853ba6bf96fd098cfe46a6db4b722f8",
     "grade": false,
     "grade_id": "cell-8051461f466d9ac5",
     "locked": false,
     "schema_version": 3,
     "solution": true
    }
   },
   "outputs": [
    {
     "data": {
      "text/html": [
       "<div>\n",
       "<style scoped>\n",
       "    .dataframe tbody tr th:only-of-type {\n",
       "        vertical-align: middle;\n",
       "    }\n",
       "\n",
       "    .dataframe tbody tr th {\n",
       "        vertical-align: top;\n",
       "    }\n",
       "\n",
       "    .dataframe thead th {\n",
       "        text-align: right;\n",
       "    }\n",
       "</style>\n",
       "<table border=\"1\" class=\"dataframe\">\n",
       "  <thead>\n",
       "    <tr style=\"text-align: right;\">\n",
       "      <th></th>\n",
       "      <th>AGE</th>\n",
       "      <th>BMI</th>\n",
       "    </tr>\n",
       "  </thead>\n",
       "  <tbody>\n",
       "    <tr>\n",
       "      <th>0</th>\n",
       "      <td>0.799594</td>\n",
       "      <td>1.295620</td>\n",
       "    </tr>\n",
       "    <tr>\n",
       "      <th>1</th>\n",
       "      <td>-0.039522</td>\n",
       "      <td>-1.080955</td>\n",
       "    </tr>\n",
       "    <tr>\n",
       "      <th>2</th>\n",
       "      <td>1.791277</td>\n",
       "      <td>0.933475</td>\n",
       "    </tr>\n",
       "    <tr>\n",
       "      <th>3</th>\n",
       "      <td>-1.870322</td>\n",
       "      <td>-0.243495</td>\n",
       "    </tr>\n",
       "    <tr>\n",
       "      <th>4</th>\n",
       "      <td>0.113044</td>\n",
       "      <td>-0.764079</td>\n",
       "    </tr>\n",
       "    <tr>\n",
       "      <th>...</th>\n",
       "      <td>...</td>\n",
       "      <td>...</td>\n",
       "    </tr>\n",
       "    <tr>\n",
       "      <th>437</th>\n",
       "      <td>0.875877</td>\n",
       "      <td>0.412892</td>\n",
       "    </tr>\n",
       "    <tr>\n",
       "      <th>438</th>\n",
       "      <td>-0.115806</td>\n",
       "      <td>-0.334032</td>\n",
       "    </tr>\n",
       "    <tr>\n",
       "      <th>439</th>\n",
       "      <td>0.875877</td>\n",
       "      <td>-0.334032</td>\n",
       "    </tr>\n",
       "    <tr>\n",
       "      <th>440</th>\n",
       "      <td>-0.954922</td>\n",
       "      <td>0.820305</td>\n",
       "    </tr>\n",
       "    <tr>\n",
       "      <th>441</th>\n",
       "      <td>-0.954922</td>\n",
       "      <td>-1.533636</td>\n",
       "    </tr>\n",
       "  </tbody>\n",
       "</table>\n",
       "<p>442 rows × 2 columns</p>\n",
       "</div>"
      ],
      "text/plain": [
       "          AGE       BMI\n",
       "0    0.799594  1.295620\n",
       "1   -0.039522 -1.080955\n",
       "2    1.791277  0.933475\n",
       "3   -1.870322 -0.243495\n",
       "4    0.113044 -0.764079\n",
       "..        ...       ...\n",
       "437  0.875877  0.412892\n",
       "438 -0.115806 -0.334032\n",
       "439  0.875877 -0.334032\n",
       "440 -0.954922  0.820305\n",
       "441 -0.954922 -1.533636\n",
       "\n",
       "[442 rows x 2 columns]"
      ]
     },
     "execution_count": 16,
     "metadata": {},
     "output_type": "execute_result"
    }
   ],
   "source": [
    "# create the dataframe diabetes_data2 here\n",
    "# YOUR CODE HERE\n",
    "#raise NotImplementedError() jo\n",
    "\n",
    "diabetes_data2 = pd.DataFrame({'AGE':diabetes_data.AGE,'BMI':diabetes_data.BMI})\n",
    "\n",
    "#Implementing standardisation using 3 methods ( User defined , lambda/Anonymous function and inline)\n",
    "\n",
    "#METHOD 1 : writing a user defined function\n",
    "\n",
    "def norm(x):\n",
    "    x=((x-x.mean())/x.std())\n",
    "    return x\n",
    "\n",
    "diabetes_data2 = diabetes_data2.apply(norm,axis=0)\n",
    "diabetes_data2\n"
   ]
  },
  {
   "cell_type": "code",
   "execution_count": 31,
   "metadata": {},
   "outputs": [],
   "source": [
    "#METHOD 2 : Using lambda function\n",
    "\n",
    "#diabetes_data2 = pd.DataFrame({'AGE':diabetes_data.AGE,'BMI':diabetes_data.BMI})\n",
    "#diabetes_data2=diabetes_data2.apply(lambda x : ((x-x.mean())/x.std()))\n",
    "#diabetes_data2\n",
    "\n",
    "#METHOD3 : Using inline\n",
    "#diabetes_data3 = diabetes_data[['AGE','BMI']].apply(lambda x : ((x-x.mean())/x.std()))\n",
    "#diabetes_data3\n"
   ]
  },
  {
   "cell_type": "code",
   "execution_count": 30,
   "metadata": {
    "deletable": false,
    "editable": false,
    "nbgrader": {
     "cell_type": "code",
     "checksum": "3f8ec3c5fc71bb1f7862a2a7425fa0ac",
     "grade": true,
     "grade_id": "cell-4571ce3b6a33685a",
     "locked": true,
     "points": 5,
     "schema_version": 3,
     "solution": false
    }
   },
   "outputs": [],
   "source": [
    "# 5 points\n",
    "np.testing.assert_equal(set(diabetes_data2.columns), {'AGE', 'BMI'})\n",
    "np.testing.assert_almost_equal(diabetes_data2['AGE'].mean(), 0)\n",
    "np.testing.assert_almost_equal(diabetes_data2['AGE'].std(), 1, decimal=1)\n",
    "np.testing.assert_almost_equal(diabetes_data2['BMI'].mean(), 0)\n",
    "np.testing.assert_almost_equal(diabetes_data2['BMI'].std(), 1, decimal=1)"
   ]
  },
  {
   "cell_type": "code",
   "execution_count": null,
   "metadata": {},
   "outputs": [],
   "source": []
  }
 ],
 "metadata": {
  "kernelspec": {
   "display_name": "Python 3",
   "language": "python",
   "name": "python3"
  },
  "language_info": {
   "codemirror_mode": {
    "name": "ipython",
    "version": 3
   },
   "file_extension": ".py",
   "mimetype": "text/x-python",
   "name": "python",
   "nbconvert_exporter": "python",
   "pygments_lexer": "ipython3",
   "version": "3.8.8"
  },
  "latex_envs": {
   "LaTeX_envs_menu_present": true,
   "autoclose": false,
   "autocomplete": true,
   "bibliofile": "biblio.bib",
   "cite_by": "apalike",
   "current_citInitial": 1,
   "eqLabelWithNumbers": true,
   "eqNumInitial": 1,
   "hotkeys": {
    "equation": "Ctrl-E",
    "itemize": "Ctrl-I"
   },
   "labels_anchors": false,
   "latex_user_defs": false,
   "report_style_numbering": false,
   "user_envs_cfg": false
  },
  "name": "lab1-no-key",
  "notebookId": 3197279189044075,
  "toc": {
   "base_numbering": 1,
   "nav_menu": {},
   "number_sections": true,
   "sideBar": true,
   "skip_h1_title": false,
   "title_cell": "Table of Contents",
   "title_sidebar": "Contents",
   "toc_cell": false,
   "toc_position": {},
   "toc_section_display": true,
   "toc_window_display": false
  }
 },
 "nbformat": 4,
 "nbformat_minor": 1
}
