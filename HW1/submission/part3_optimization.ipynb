{
 "cells": [
  {
   "cell_type": "markdown",
   "id": "77aaca71",
   "metadata": {
    "deletable": false,
    "editable": false,
    "nbgrader": {
     "cell_type": "markdown",
     "checksum": "ce6a727b38f3fcc506cba517fa115c9d",
     "grade": false,
     "grade_id": "cell-b038e38b5e3072a9",
     "locked": true,
     "schema_version": 3,
     "solution": false
    }
   },
   "source": [
    "# IST 718: Big Data Analytics\n",
    "\n",
    "- Professor: Daniel Acuna <deacuna@syr.edu>\n",
    "\n",
    "## General instructions:\n",
    "\n",
    "- You are welcome to discuss the problems with your classmates but __you are not allowed to copy any part of your answers either from your classmates or from the internet__\n",
    "- You can put the homework files anywhere you want in your https://hub.ischool.syr.edu/ workspace but _do not change_ the file names. The TAs and the professor use these names to grade your homework.\n",
    "- Remove or comment out code that contains `raise NotImplementedError`. This is mainly to make the `assert` statement fail if nothing is submitted.\n",
    "- The tests shown in some cells (i.e., `assert` and `np.testing.` statements) are used to grade your answers. **However, the professor and TAs will use __additional__ test for your answer. Think about cases where your code should run even if it passess all the tests you see.**\n",
    "- Before downloading and submitting your work through Blackboard, remember to save and press `Validate` (or go to \n",
    "`Kernel`$\\rightarrow$`Restart and Run All`). \n",
    "- Good luck!"
   ]
  },
  {
   "cell_type": "code",
   "execution_count": 1,
   "id": "destroyed-scotland",
   "metadata": {
    "deletable": false,
    "editable": false,
    "nbgrader": {
     "cell_type": "code",
     "checksum": "ef5f72ab3c2c900f039ed5f753e06b6c",
     "grade": false,
     "grade_id": "cell-a357d0688b9e7beb",
     "locked": true,
     "schema_version": 3,
     "solution": false
    }
   },
   "outputs": [],
   "source": [
    "# import packages\n",
    "import numpy as np\n",
    "import matplotlib.pyplot as plt"
   ]
  },
  {
   "cell_type": "markdown",
   "id": "united-hospital",
   "metadata": {},
   "source": [
    "# Part 3: Optimization"
   ]
  },
  {
   "cell_type": "markdown",
   "id": "ae0fd52e",
   "metadata": {},
   "source": [
    "In one of the activites in class, we saw how to find the optimal coefficients of a linear regression model using the equation\n",
    "\n",
    "$$\n",
    "\\hat{\\beta} = (X^T X)^{-1} X^T y\n",
    "$$\n",
    "\n",
    "which is the result of finding the best parameters that minimize the loss\n",
    "$$\n",
    "L(\\beta) = \\sum_i (\\hat{y}_i - y_i)^2\n",
    "$$\n",
    "\n",
    "where \n",
    "$$\n",
    "y_i = b_0 + \\sum_i b_j x_j\n",
    "$$\n",
    "\n",
    "Sometimes, however, we want to minimize the following _regularized_ loss function known as ridge loss\n",
    "\n",
    "$$\n",
    "L(\\beta) = \\sum_i (\\hat{y}_i - y_i)^2 + \\gamma \\sum_j b_j^2\n",
    "$$\n",
    "\n",
    "where $\\gamma$ is non-negative real number. This loss function can be solved with\n",
    "\n",
    "$$\n",
    "\\hat{\\beta} = (X^T X + \\gamma I)^{-1} X^T y\n",
    "$$\n",
    "\n",
    "where $I$ is an identity matrix with the same dimensions as $X^T X$.\n"
   ]
  },
  {
   "cell_type": "markdown",
   "id": "c8169474",
   "metadata": {},
   "source": [
    "For the given random dataset:"
   ]
  },
  {
   "cell_type": "code",
   "execution_count": 2,
   "id": "dadac642",
   "metadata": {
    "deletable": false,
    "editable": false,
    "nbgrader": {
     "cell_type": "code",
     "checksum": "bdcd65b1f9369bdc675de589da2f8875",
     "grade": false,
     "grade_id": "cell-168292795adb0edc",
     "locked": true,
     "schema_version": 3,
     "solution": false,
     "task": false
    }
   },
   "outputs": [],
   "source": [
    "import numpy as np\n",
    "# the following code generates 1000 data points with 4 features each, and you are trying to predict one outcome y\n",
    "# this makes the results reproducible\n",
    "np.random.seed(42)\n",
    "# generate X and Y\n",
    "true_beta = np.random.random(size=(2, 1))\n",
    "X = np.random.random(size=(1000, 2))\n",
    "y = X @ true_beta + 1/8*np.random.randn(1000, 1)"
   ]
  },
  {
   "cell_type": "markdown",
   "id": "intellectual-tower",
   "metadata": {},
   "source": [
    "**Question 3.1 (5 pts)** Create a `find_ols` function that for a given `X` and `y` Numpy arrays returns the optimal coefficients for squared errors. Remember that matrix inversion can be computed with the `np.linalg.inv` function."
   ]
  },
  {
   "cell_type": "code",
   "execution_count": 3,
   "id": "04e9c7bd",
   "metadata": {
    "deletable": false,
    "nbgrader": {
     "cell_type": "code",
     "checksum": "0bcd524bba117f92ecebf2f3e03a0a5a",
     "grade": false,
     "grade_id": "cell-2a3f6d8d0fc17020",
     "locked": false,
     "schema_version": 3,
     "solution": true,
     "task": false
    }
   },
   "outputs": [],
   "source": [
    "def find_ols(X, y):\n",
    "    # YOUR CODE HERE\n",
    "    #raise NotImplementedError()\n",
    "    b = np.linalg.inv(X.T @ X) @ X.T @ y\n",
    "    return b"
   ]
  },
  {
   "cell_type": "code",
   "execution_count": 4,
   "id": "8373065a",
   "metadata": {},
   "outputs": [
    {
     "name": "stdout",
     "output_type": "stream",
     "text": [
      "True solution [[0.37454012]\n",
      " [0.95071431]]\n",
      "Estimation [[0.37394758]\n",
      " [0.95054005]]\n"
     ]
    }
   ],
   "source": [
    "# check your code. The solution should be closer to the true beta\n",
    "print(\"True solution\", true_beta)\n",
    "print(\"Estimation\", find_ols(X, y))"
   ]
  },
  {
   "cell_type": "code",
   "execution_count": 5,
   "id": "711cc666",
   "metadata": {
    "deletable": false,
    "editable": false,
    "nbgrader": {
     "cell_type": "code",
     "checksum": "9d20ff0473e9ee36473d61648a2f30e6",
     "grade": true,
     "grade_id": "cell-b42df2ddd51f11d0",
     "locked": true,
     "points": 5,
     "schema_version": 3,
     "solution": false,
     "task": false
    }
   },
   "outputs": [],
   "source": [
    "# 5 pts\n",
    "np.testing.assert_almost_equal(find_ols(X, y), np.array([[0.37394758],\n",
    "       [0.95054005]]))\n",
    "# solution size\n",
    "np.testing.assert_equal(find_ols(np.random.random(size=(100,10)), np.random.random(size=(100,1))).shape, (10, 1))"
   ]
  },
  {
   "cell_type": "markdown",
   "id": "warming-separation",
   "metadata": {},
   "source": [
    "**Question 3.2 (5 pts)** Define a function `SS` that receives Numpy arrays `X`, `y`, `b` and computes the sum of squared errors using Numpy.\n",
    "\n",
    "$$\n",
    "SS = \\sum_i (\\sum_j b_j x_j - y_i)^2\n",
    "$$\n",
    "\n",
    "which you can represent with\n",
    "\n",
    "$$\n",
    "SS = (X \\hat{\\beta} - y)^T (X \\hat{\\beta} - y)\n",
    "$$\n",
    "\n",
    "**Note that your function should return just a number and not a matrix**"
   ]
  },
  {
   "cell_type": "code",
   "execution_count": 6,
   "id": "painted-canadian",
   "metadata": {
    "deletable": false,
    "nbgrader": {
     "cell_type": "code",
     "checksum": "a2bd0915c962fac96fbc7c245bb458e3",
     "grade": false,
     "grade_id": "cell-e1ce69eada8a189a",
     "locked": false,
     "schema_version": 3,
     "solution": true
    }
   },
   "outputs": [],
   "source": [
    "def SS(X, y, b):\n",
    "    return (((X@b-y).T)@(X@b-y))[0][0]\n",
    "\n",
    "    #raise NotImplementedError()"
   ]
  },
  {
   "cell_type": "code",
   "execution_count": 7,
   "id": "d1ccf229",
   "metadata": {},
   "outputs": [
    {
     "data": {
      "text/plain": [
       "14.971442060168258"
      ]
     },
     "execution_count": 7,
     "metadata": {},
     "output_type": "execute_result"
    }
   ],
   "source": [
    "# try it here\n",
    "SS(X, y, find_ols(X, y))"
   ]
  },
  {
   "cell_type": "code",
   "execution_count": 8,
   "id": "textile-baseball",
   "metadata": {
    "deletable": false,
    "editable": false,
    "nbgrader": {
     "cell_type": "code",
     "checksum": "ecccd0826f3c212bb22108d16e2b73fb",
     "grade": true,
     "grade_id": "cell-7ce4ca9b658f924b",
     "locked": true,
     "points": 5,
     "schema_version": 3,
     "solution": false
    }
   },
   "outputs": [
    {
     "ename": "AssertionError",
     "evalue": "\nItems are not equal:\n ACTUAL: 14.971442060168258\n DESIRED: 14.971442060168256",
     "output_type": "error",
     "traceback": [
      "\u001b[0;31m---------------------------------------------------------------------------\u001b[0m",
      "\u001b[0;31mAssertionError\u001b[0m                            Traceback (most recent call last)",
      "\u001b[0;32m<ipython-input-8-36aaec4a4ef5>\u001b[0m in \u001b[0;36m<module>\u001b[0;34m\u001b[0m\n\u001b[1;32m      1\u001b[0m \u001b[0;31m# 5 pts\u001b[0m\u001b[0;34m\u001b[0m\u001b[0;34m\u001b[0m\u001b[0;34m\u001b[0m\u001b[0m\n\u001b[0;32m----> 2\u001b[0;31m \u001b[0mnp\u001b[0m\u001b[0;34m.\u001b[0m\u001b[0mtesting\u001b[0m\u001b[0;34m.\u001b[0m\u001b[0massert_equal\u001b[0m\u001b[0;34m(\u001b[0m\u001b[0mSS\u001b[0m\u001b[0;34m(\u001b[0m\u001b[0mX\u001b[0m\u001b[0;34m,\u001b[0m \u001b[0my\u001b[0m\u001b[0;34m,\u001b[0m \u001b[0mfind_ols\u001b[0m\u001b[0;34m(\u001b[0m\u001b[0mX\u001b[0m\u001b[0;34m,\u001b[0m \u001b[0my\u001b[0m\u001b[0;34m)\u001b[0m\u001b[0;34m)\u001b[0m\u001b[0;34m,\u001b[0m \u001b[0;36m14.971442060168256\u001b[0m\u001b[0;34m)\u001b[0m\u001b[0;34m\u001b[0m\u001b[0;34m\u001b[0m\u001b[0m\n\u001b[0m",
      "\u001b[0;32m/opt/conda/lib/python3.8/site-packages/numpy/testing/_private/utils.py\u001b[0m in \u001b[0;36massert_equal\u001b[0;34m(actual, desired, err_msg, verbose)\u001b[0m\n\u001b[1;32m    419\u001b[0m         \u001b[0;31m# Explicitly use __eq__ for comparison, gh-2552\u001b[0m\u001b[0;34m\u001b[0m\u001b[0;34m\u001b[0m\u001b[0;34m\u001b[0m\u001b[0m\n\u001b[1;32m    420\u001b[0m         \u001b[0;32mif\u001b[0m \u001b[0;32mnot\u001b[0m \u001b[0;34m(\u001b[0m\u001b[0mdesired\u001b[0m \u001b[0;34m==\u001b[0m \u001b[0mactual\u001b[0m\u001b[0;34m)\u001b[0m\u001b[0;34m:\u001b[0m\u001b[0;34m\u001b[0m\u001b[0;34m\u001b[0m\u001b[0m\n\u001b[0;32m--> 421\u001b[0;31m             \u001b[0;32mraise\u001b[0m \u001b[0mAssertionError\u001b[0m\u001b[0;34m(\u001b[0m\u001b[0mmsg\u001b[0m\u001b[0;34m)\u001b[0m\u001b[0;34m\u001b[0m\u001b[0;34m\u001b[0m\u001b[0m\n\u001b[0m\u001b[1;32m    422\u001b[0m \u001b[0;34m\u001b[0m\u001b[0m\n\u001b[1;32m    423\u001b[0m     \u001b[0;32mexcept\u001b[0m \u001b[0;34m(\u001b[0m\u001b[0mDeprecationWarning\u001b[0m\u001b[0;34m,\u001b[0m \u001b[0mFutureWarning\u001b[0m\u001b[0;34m)\u001b[0m \u001b[0;32mas\u001b[0m \u001b[0me\u001b[0m\u001b[0;34m:\u001b[0m\u001b[0;34m\u001b[0m\u001b[0;34m\u001b[0m\u001b[0m\n",
      "\u001b[0;31mAssertionError\u001b[0m: \nItems are not equal:\n ACTUAL: 14.971442060168258\n DESIRED: 14.971442060168256"
     ]
    }
   ],
   "source": [
    "# 5 pts\n",
    "np.testing.assert_equal(SS(X, y, find_ols(X, y)), 14.971442060168256)"
   ]
  },
  {
   "cell_type": "markdown",
   "id": "engaged-tours",
   "metadata": {},
   "source": [
    "**Question 3.3 (5 pts)** Define a function `find_ridge` that receives `X`, `y`, and `gamma` and returns the solution to the ridge loss. Use Numpy"
   ]
  },
  {
   "cell_type": "code",
   "execution_count": 12,
   "id": "reverse-completion",
   "metadata": {
    "deletable": false,
    "nbgrader": {
     "cell_type": "code",
     "checksum": "40852a68644a2b6e55b1669ceaf0ebdb",
     "grade": false,
     "grade_id": "cell-54984d4d072fad0c",
     "locked": false,
     "schema_version": 3,
     "solution": true
    }
   },
   "outputs": [],
   "source": [
    "def find_ridge(X, y, gamma):\n",
    "    p = X.T@X\n",
    "    xr,xc = p.shape\n",
    "    c= np.linalg.inv(((X.T)@X)+ (gamma*np.eye(xr))) @(X.T)@y\n",
    "    return c\n",
    "    # YOUR CODE HERE\n",
    "    #raise NotImplementedError()"
   ]
  },
  {
   "cell_type": "markdown",
   "id": "d12a113f",
   "metadata": {},
   "source": [
    "By definition, the solution should be the same when $\\gamma = 0$"
   ]
  },
  {
   "cell_type": "code",
   "execution_count": 13,
   "id": "37bb8e3f",
   "metadata": {},
   "outputs": [
    {
     "name": "stdout",
     "output_type": "stream",
     "text": [
      "[[0.37394758]\n",
      " [0.95054005]]\n",
      "[[0.37394758]\n",
      " [0.95054005]]\n"
     ]
    }
   ],
   "source": [
    "print(find_ols(X, y))\n",
    "print(find_ridge(X, y, 0))"
   ]
  },
  {
   "cell_type": "markdown",
   "id": "1baedd7c",
   "metadata": {},
   "source": [
    "With ridge regression, the coefficients should decrease with bigger values of gamma"
   ]
  },
  {
   "cell_type": "code",
   "execution_count": 14,
   "id": "3db2a06d",
   "metadata": {},
   "outputs": [
    {
     "name": "stdout",
     "output_type": "stream",
     "text": [
      "gamma: 1 [[0.37612875]\n",
      " [0.94614896]]\n",
      "gamma: 10 [[0.39279017]\n",
      " [0.90987695]]\n",
      "gamma: 100 [[0.43118467]\n",
      " [0.70158231]]\n",
      "gamma: 1000 [[0.2199223]\n",
      " [0.2692352]]\n"
     ]
    }
   ],
   "source": [
    "for gamma in (1, 10, 100, 1000):\n",
    "    print('gamma:', gamma, find_ridge(X, y, gamma))"
   ]
  },
  {
   "cell_type": "markdown",
   "id": "20073b9b",
   "metadata": {},
   "source": [
    "With ridge regression, the sum of squares should increase, making the solution _worse_ for the training data"
   ]
  },
  {
   "cell_type": "code",
   "execution_count": 15,
   "id": "fc8b487f",
   "metadata": {},
   "outputs": [
    {
     "name": "stdout",
     "output_type": "stream",
     "text": [
      "MSE: 1 14.97477628605608\n",
      "MSE: 10 15.267414386599514\n",
      "MSE: 100 29.969901275064654\n",
      "MSE: 1000 232.2762862209032\n"
     ]
    }
   ],
   "source": [
    "for gamma in (1, 10, 100, 1000):\n",
    "    print('MSE:', gamma, SS(X, y, find_ridge(X, y, gamma)))"
   ]
  },
  {
   "cell_type": "code",
   "execution_count": 16,
   "id": "3ec65ca8",
   "metadata": {
    "deletable": false,
    "editable": false,
    "nbgrader": {
     "cell_type": "code",
     "checksum": "63c491e1c58cbfa74cc9b1ff343aebfc",
     "grade": true,
     "grade_id": "cell-4f07c81e88f63690",
     "locked": true,
     "points": 5,
     "schema_version": 3,
     "solution": false,
     "task": false
    }
   },
   "outputs": [],
   "source": [
    "# 5 pts\n",
    "np.testing.assert_almost_equal(find_ols(X, y), find_ridge(X, y, 0))\n",
    "# solution size\n",
    "np.testing.assert_array_less(find_ridge(X, y, 1000)**2, find_ridge(X, y, 5)**2)"
   ]
  },
  {
   "cell_type": "code",
   "execution_count": null,
   "id": "635c8417",
   "metadata": {},
   "outputs": [],
   "source": []
  }
 ],
 "metadata": {
  "kernelspec": {
   "display_name": "Python 3",
   "language": "python",
   "name": "python3"
  },
  "language_info": {
   "codemirror_mode": {
    "name": "ipython",
    "version": 3
   },
   "file_extension": ".py",
   "mimetype": "text/x-python",
   "name": "python",
   "nbconvert_exporter": "python",
   "pygments_lexer": "ipython3",
   "version": "3.8.8"
  },
  "latex_envs": {
   "LaTeX_envs_menu_present": true,
   "autoclose": false,
   "autocomplete": true,
   "bibliofile": "biblio.bib",
   "cite_by": "apalike",
   "current_citInitial": 1,
   "eqLabelWithNumbers": true,
   "eqNumInitial": 1,
   "hotkeys": {
    "equation": "Ctrl-E",
    "itemize": "Ctrl-I"
   },
   "labels_anchors": false,
   "latex_user_defs": false,
   "report_style_numbering": false,
   "user_envs_cfg": false
  },
  "toc": {
   "base_numbering": 1,
   "nav_menu": {},
   "number_sections": true,
   "sideBar": true,
   "skip_h1_title": false,
   "title_cell": "Table of Contents",
   "title_sidebar": "Contents",
   "toc_cell": false,
   "toc_position": {},
   "toc_section_display": true,
   "toc_window_display": false
  }
 },
 "nbformat": 4,
 "nbformat_minor": 5
}
