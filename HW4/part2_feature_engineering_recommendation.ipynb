{
 "cells": [
  {
   "cell_type": "markdown",
   "metadata": {
    "deletable": false,
    "editable": false,
    "nbgrader": {
     "cell_type": "markdown",
     "checksum": "4bbd65eb54cb7560cb59caee50b28b51",
     "grade": false,
     "grade_id": "cell-ea82134f82431177",
     "locked": true,
     "schema_version": 3,
     "solution": false,
     "task": false
    }
   },
   "source": [
    "# IST 718: Big Data Analytics\n",
    "\n",
    "- Professor: Daniel Acuna <deacuna@syr.edu>\n",
    "\n",
    "## General instructions:\n",
    "\n",
    "- You are welcome to discuss the problems with your classmates but __you are not allowed to copy any part of your answers either from your classmates or from the internet__\n",
    "- You can put the homework files anywhere you want in your https://jupyterhub.ischool.syr.edu/ workspace but _do not change_ the file names. The TAs and the professor use these names to grade your homework.\n",
    "- Remove or comment out code that contains `raise NotImplementedError`. This is mainly to make the `assert` statement fail if nothing is submitted.\n",
    "- The tests shown in some cells (i.e., `assert` and `np.testing.` statements) are used to grade your answers. **However, the professor and TAs will use __additional__ test for your answer. Think about cases where your code should run even if it passess all the tests you see.**\n",
    "- Before downloading and submitting your work through Blackboard, remember to save and press `Validate` (or go to \n",
    "`Kernel`$\\rightarrow$`Restart and Run All`). \n",
    "- Good luck!"
   ]
  },
  {
   "cell_type": "code",
   "execution_count": null,
   "metadata": {
    "deletable": false,
    "editable": false,
    "nbgrader": {
     "cell_type": "code",
     "checksum": "a51ca2d5dddbfdb45e3b76b0ef899544",
     "grade": false,
     "grade_id": "cell-82687de13c732ee5",
     "locked": true,
     "schema_version": 3,
     "solution": false,
     "task": false
    }
   },
   "outputs": [],
   "source": [
    "# Load the packages needed for this part\n",
    "# create spark and sparkcontext objects\n",
    "from pyspark.sql import SparkSession\n",
    "import numpy as np\n",
    "\n",
    "spark = SparkSession.builder.getOrCreate()\n",
    "sc = spark.sparkContext\n",
    "\n",
    "from pyspark.ml import feature, regression, Pipeline, pipeline, evaluation, tuning, clustering\n",
    "from pyspark.sql import types, Row, functions as fn\n",
    "from pyspark import sql\n",
    "import pandas as pd\n",
    "import matplotlib.pyplot as plt"
   ]
  },
  {
   "cell_type": "markdown",
   "metadata": {
    "deletable": false,
    "editable": false,
    "nbgrader": {
     "cell_type": "markdown",
     "checksum": "9ada9405a301f4693e9ae47b81abded9",
     "grade": false,
     "grade_id": "cell-2630ce7467b54878",
     "locked": true,
     "schema_version": 3,
     "solution": false,
     "task": false
    }
   },
   "source": [
    "# Part 2: Feature engineering and recommendation\n",
    "In this project, we are going to study a dataset of Spotify songs for which we have a number of features."
   ]
  },
  {
   "cell_type": "code",
   "execution_count": null,
   "metadata": {
    "deletable": false,
    "editable": false,
    "nbgrader": {
     "cell_type": "code",
     "checksum": "4909ded8050ae821fac1a64acd7cd699",
     "grade": false,
     "grade_id": "cell-22862fe3fa46db88",
     "locked": true,
     "schema_version": 3,
     "solution": false,
     "task": false
    }
   },
   "outputs": [],
   "source": [
    "spotify = spark.read.csv('spotify_songs.csv', header=True, inferSchema=True)"
   ]
  },
  {
   "cell_type": "code",
   "execution_count": null,
   "metadata": {
    "deletable": false,
    "editable": false,
    "nbgrader": {
     "cell_type": "code",
     "checksum": "f258e94531f333a3fcbcbe27163cb9e0",
     "grade": false,
     "grade_id": "cell-0159d0c180f1af5b",
     "locked": true,
     "schema_version": 3,
     "solution": false,
     "task": false
    }
   },
   "outputs": [],
   "source": [
    "spotify.limit(5).toPandas()"
   ]
  },
  {
   "cell_type": "markdown",
   "metadata": {
    "deletable": false,
    "editable": false,
    "nbgrader": {
     "cell_type": "markdown",
     "checksum": "806d48926198c5097b3b963c79724a61",
     "grade": false,
     "grade_id": "cell-1f1b07ffe91f6dec",
     "locked": true,
     "schema_version": 3,
     "solution": false,
     "task": false
    }
   },
   "source": [
    "## Question 1. (10 pts)\n",
    "First, we will try to understand how the duration, tempo, and key are related to danceability. Unfortunately, each of these features is in different scales, and the feature key is categorical.\n",
    "\n",
    "Create a pipeline model (i.e., fitted pipeline) called `featurize` that performs the following feature engineering steps\n",
    "- Standardizes `duration_ms` and `tempo` (you have to combine `feature.VectorAssembler` with `feature.StandardScaler`)\n",
    "- Create dummy variables for `key` (you have to use `feature.OneHotEncoder`. This encoder uses the *last category* as the baseline. Be careful when interpreting it)\n",
    "\n",
    "You have to create a last step in this featurizer that combines the two kinds of engineered features into a column called `features` "
   ]
  },
  {
   "cell_type": "code",
   "execution_count": null,
   "metadata": {
    "deletable": false,
    "nbgrader": {
     "cell_type": "code",
     "checksum": "bb20ea25b02c768d686ec4b13d0465dc",
     "grade": false,
     "grade_id": "cell-5a5620124b0491d5",
     "locked": false,
     "schema_version": 3,
     "solution": true,
     "task": false
    }
   },
   "outputs": [],
   "source": [
    "# create pipeline to produce principal components of data\n",
    "# YOUR CODE HERE\n",
    "raise NotImplementedError()"
   ]
  },
  {
   "cell_type": "code",
   "execution_count": null,
   "metadata": {
    "deletable": false,
    "editable": false,
    "nbgrader": {
     "cell_type": "code",
     "checksum": "fe3df11c51fa299cdf94d759e7df23c7",
     "grade": false,
     "grade_id": "cell-513db569bfea676e",
     "locked": true,
     "schema_version": 3,
     "solution": false,
     "task": false
    }
   },
   "outputs": [],
   "source": [
    "# test the featurizer here\n",
    "featurize.transform(spotify).select('features').first().features.toArray()"
   ]
  },
  {
   "cell_type": "code",
   "execution_count": null,
   "metadata": {
    "deletable": false,
    "editable": false,
    "nbgrader": {
     "cell_type": "code",
     "checksum": "6afbdbe2d955a1d630ac4f80ce0228b3",
     "grade": true,
     "grade_id": "cell-6f7a3cd2f316b81b",
     "locked": true,
     "points": 10,
     "schema_version": 3,
     "solution": false,
     "task": false
    }
   },
   "outputs": [],
   "source": [
    "# 10 pts\n",
    "assert type(featurize) == pipeline.PipelineModel\n",
    "assert feature.StandardScalerModel in list(map(type, featurize.stages))\n",
    "assert feature.OneHotEncoderModel in list(map(type, featurize.stages))\n",
    "assert feature.VectorAssembler in list(map(type, featurize.stages))\n",
    "assert len(featurize.transform(spotify).select('features').first().features.toArray()) == 13"
   ]
  },
  {
   "cell_type": "markdown",
   "metadata": {
    "deletable": false,
    "editable": false,
    "nbgrader": {
     "cell_type": "markdown",
     "checksum": "1493a69b0419db24732fa00978f49d22",
     "grade": false,
     "grade_id": "cell-161e4a92fa10208c",
     "locked": true,
     "schema_version": 3,
     "solution": false,
     "task": false
    }
   },
   "source": [
    "## Question 2: (20 pts)\n",
    "We will now compare a model without feature engineering to one with feature engineering.\n",
    "\n",
    "First, create a vanilla pipeline model (i.e., fitted pipeline) that takes `duration_ms`, `tempo`, and `key` without any feature engineering and assembles them into a column `features`. Call this pipeline `vanilla_features`"
   ]
  },
  {
   "cell_type": "code",
   "execution_count": null,
   "metadata": {
    "deletable": false,
    "nbgrader": {
     "cell_type": "code",
     "checksum": "1b9b5ab07001b6b1dfd47d9000debfbc",
     "grade": false,
     "grade_id": "cell-3b2c9d0e4d2d2d9e",
     "locked": false,
     "schema_version": 3,
     "solution": true,
     "task": false
    }
   },
   "outputs": [],
   "source": [
    "# create pipeline for vanilla featurizer\n",
    "# YOUR CODE HERE\n",
    "raise NotImplementedError()"
   ]
  },
  {
   "cell_type": "code",
   "execution_count": null,
   "metadata": {
    "deletable": false,
    "editable": false,
    "nbgrader": {
     "cell_type": "code",
     "checksum": "60137f45f45a3825863da4b58b1457b7",
     "grade": false,
     "grade_id": "cell-175d52e589142129",
     "locked": true,
     "schema_version": 3,
     "solution": false,
     "task": false
    }
   },
   "outputs": [],
   "source": [
    "# test your pipeline\n",
    "vanilla_features.transform(spotify).first().features.toArray()"
   ]
  },
  {
   "cell_type": "code",
   "execution_count": null,
   "metadata": {
    "deletable": false,
    "editable": false,
    "nbgrader": {
     "cell_type": "code",
     "checksum": "1defc5f82ef09b2582ba1a45e0597b9b",
     "grade": true,
     "grade_id": "cell-0ae4fa373495965d",
     "locked": true,
     "points": 5,
     "schema_version": 3,
     "solution": false,
     "task": false
    }
   },
   "outputs": [],
   "source": [
    "# 5 pts\n",
    "assert type(vanilla_features) == pipeline.PipelineModel\n",
    "assert len(vanilla_features.transform(spotify).select('features').first().features.toArray()) == 3"
   ]
  },
  {
   "cell_type": "markdown",
   "metadata": {
    "deletable": false,
    "editable": false,
    "nbgrader": {
     "cell_type": "markdown",
     "checksum": "46f8ce364e02aae49d466b92babaa309",
     "grade": false,
     "grade_id": "cell-affc89c9166ccc16",
     "locked": true,
     "schema_version": 3,
     "solution": false,
     "task": false
    }
   },
   "source": [
    "Now, create two regression pipeline estimators (don't fit them) `model_fe` and `model_vanilla` where `model_fe` uses the featurizer from Question 1 to create the features and `model_vanilla` creates the features using the previous pipeline. Remember that you are predicting `danceability`."
   ]
  },
  {
   "cell_type": "code",
   "execution_count": null,
   "metadata": {
    "deletable": false,
    "nbgrader": {
     "cell_type": "code",
     "checksum": "e021c617a24cbafb81c962a05c7c6852",
     "grade": false,
     "grade_id": "cell-bb8f0e69179dfc92",
     "locked": false,
     "schema_version": 3,
     "solution": true,
     "task": false
    }
   },
   "outputs": [],
   "source": [
    "# create pipeline for models\n",
    "# YOUR CODE HERE\n",
    "raise NotImplementedError()"
   ]
  },
  {
   "cell_type": "code",
   "execution_count": null,
   "metadata": {
    "deletable": false,
    "editable": false,
    "nbgrader": {
     "cell_type": "code",
     "checksum": "efb05e3c87091f85cc31e0264c706bf9",
     "grade": true,
     "grade_id": "cell-7a350de8eb6ac6c6",
     "locked": true,
     "points": 5,
     "schema_version": 3,
     "solution": false,
     "task": false
    }
   },
   "outputs": [],
   "source": [
    "# 5 pts\n",
    "assert type(model_fe) == pipeline.Pipeline\n",
    "assert len(model_fe.getStages()) == 2\n",
    "assert type(model_vanilla) == pipeline.Pipeline\n",
    "assert len(model_vanilla.getStages()) == 2"
   ]
  },
  {
   "cell_type": "markdown",
   "metadata": {
    "deletable": false,
    "editable": false,
    "nbgrader": {
     "cell_type": "markdown",
     "checksum": "bf15bfeedde3217c1c85d561b5905d04",
     "grade": false,
     "grade_id": "cell-1a4e8f7138cb43f6",
     "locked": true,
     "schema_version": 3,
     "solution": false,
     "task": false
    }
   },
   "source": [
    "With the code below, we will evaluate the performance of each of the models and print them"
   ]
  },
  {
   "cell_type": "code",
   "execution_count": null,
   "metadata": {
    "deletable": false,
    "editable": false,
    "nbgrader": {
     "cell_type": "code",
     "checksum": "a5ace4ed85fe47b870b6070a0c493ef9",
     "grade": false,
     "grade_id": "cell-2419afab17d35023",
     "locked": true,
     "schema_version": 3,
     "solution": false,
     "task": false
    }
   },
   "outputs": [],
   "source": [
    "regression_evaluator = evaluation.RegressionEvaluator(labelCol='danceability', metricName='rmse')\n",
    "training_df, validation_df = spotify.randomSplit([0.8, 0.2], seed=0)\n",
    "\n",
    "print(\"RMSE model_fe: \", regression_evaluator.evaluate(model_fe.fit(training_df).transform(validation_df)))\n",
    "print(\"RMSE model_vanilla: \", regression_evaluator.evaluate(model_vanilla.fit(training_df).transform(validation_df)))"
   ]
  },
  {
   "cell_type": "markdown",
   "metadata": {
    "deletable": false,
    "editable": false,
    "nbgrader": {
     "cell_type": "markdown",
     "checksum": "77e0c976c9a5bcb03195965e11d4bd74",
     "grade": false,
     "grade_id": "cell-51ee5dfba6979007",
     "locked": true,
     "schema_version": 3,
     "solution": false,
     "task": false
    }
   },
   "source": [
    "**(10 pts)** Based on the results above, what can you say about the model with feature engineering. Is there are big difference in performance? If not, why would it be worth doing feature engineering anyway? Answer below"
   ]
  },
  {
   "cell_type": "markdown",
   "metadata": {
    "deletable": false,
    "nbgrader": {
     "cell_type": "markdown",
     "checksum": "f846285557a4c2ac73fc513a21291e8f",
     "grade": true,
     "grade_id": "cell-1d8909974e146b83",
     "locked": false,
     "points": 10,
     "schema_version": 3,
     "solution": true,
     "task": false
    }
   },
   "source": [
    "YOUR ANSWER HERE"
   ]
  },
  {
   "cell_type": "markdown",
   "metadata": {
    "deletable": false,
    "editable": false,
    "nbgrader": {
     "cell_type": "markdown",
     "checksum": "5a9cad8b467303a13af7461bee9ce92f",
     "grade": false,
     "grade_id": "cell-0ab7897869aab38d",
     "locked": true,
     "schema_version": 3,
     "solution": false,
     "task": false
    }
   },
   "source": [
    "## Question 3: (25 pts) Clustering\n",
    "\n",
    "We will now make recommendation of songs based on k-means. Create a pipeline where you fit a 10-cluster KMeans to the following features **after standardization**"
   ]
  },
  {
   "cell_type": "code",
   "execution_count": null,
   "metadata": {
    "deletable": false,
    "editable": false,
    "nbgrader": {
     "cell_type": "code",
     "checksum": "0bb018c9752226b544ca6dd6ec55e9cf",
     "grade": false,
     "grade_id": "cell-49a99ed8972a8216",
     "locked": true,
     "schema_version": 3,
     "solution": false,
     "task": false
    }
   },
   "outputs": [],
   "source": [
    "feature_list = ['acousticness',\n",
    " 'danceability',\n",
    " 'duration_ms',\n",
    " 'energy',\n",
    " 'instrumentalness',\n",
    " 'key',\n",
    " 'liveness',\n",
    " 'loudness',\n",
    " 'mode',\n",
    " 'speechiness',\n",
    " 'tempo',\n",
    " 'time_signature',\n",
    " 'valence']"
   ]
  },
  {
   "cell_type": "markdown",
   "metadata": {
    "deletable": false,
    "editable": false,
    "nbgrader": {
     "cell_type": "markdown",
     "checksum": "4229bb537cd27b19e655e94922fe99cf",
     "grade": false,
     "grade_id": "cell-9375d973d5f3234e",
     "locked": true,
     "schema_version": 3,
     "solution": false,
     "task": false
    }
   },
   "source": [
    "Name the pipeline `spotify_clustering` and make sure that the `KMeans` model has a prediction column called `cluster`"
   ]
  },
  {
   "cell_type": "code",
   "execution_count": null,
   "metadata": {
    "deletable": false,
    "nbgrader": {
     "cell_type": "code",
     "checksum": "ffa0102bc9927fac38c94c356223c40f",
     "grade": false,
     "grade_id": "cell-29011988b6f5131b",
     "locked": false,
     "schema_version": 3,
     "solution": true,
     "task": false
    }
   },
   "outputs": [],
   "source": [
    "# create pipeline spotify_clustering\n",
    "# YOUR CODE HERE\n",
    "raise NotImplementedError()"
   ]
  },
  {
   "cell_type": "code",
   "execution_count": null,
   "metadata": {
    "deletable": false,
    "editable": false,
    "nbgrader": {
     "cell_type": "code",
     "checksum": "16ad85c0b992f71491ce3bcdfc0d36f9",
     "grade": true,
     "grade_id": "cell-969784dbada4f673",
     "locked": true,
     "points": 10,
     "schema_version": 3,
     "solution": false,
     "task": false
    }
   },
   "outputs": [],
   "source": [
    "# 10 pts\n",
    "assert type(spotify_clustering) == pipeline.PipelineModel\n",
    "assert feature.StandardScalerModel in set(map(type, spotify_clustering.stages))\n",
    "assert spotify_clustering.stages[-1].extractParamMap()[(spotify_clustering.stages[-1].k)] == 10\n",
    "assert spotify_clustering.stages[-1].extractParamMap()[(spotify_clustering.stages[-1].predictionCol)] == 'cluster'"
   ]
  },
  {
   "cell_type": "markdown",
   "metadata": {
    "deletable": false,
    "editable": false,
    "nbgrader": {
     "cell_type": "markdown",
     "checksum": "8be505fb117728237ba9ff3a40a65aae",
     "grade": false,
     "grade_id": "cell-33d174e9a80adc58",
     "locked": true,
     "schema_version": 3,
     "solution": false,
     "task": false
    }
   },
   "source": [
    "As you all know, the professor is a big fan of Meat Loaf (the artists, obviously) and his song \"I will do anything for love (But I won't do that)\" because it is close to the professor's mantra: \"I will do anything for data (But I won't overfit)\"."
   ]
  },
  {
   "cell_type": "code",
   "execution_count": null,
   "metadata": {
    "deletable": false,
    "editable": false,
    "nbgrader": {
     "cell_type": "code",
     "checksum": "6ff78a5af498c231cf31b221a7645f84",
     "grade": false,
     "grade_id": "cell-49e60b7f02c37478",
     "locked": true,
     "schema_version": 3,
     "solution": false,
     "task": false
    }
   },
   "outputs": [],
   "source": [
    "meat_loaf = spotify.where(fn.col('artist') == \"Meat Loaf\")\n",
    "print(meat_loaf.first().song_title)"
   ]
  },
  {
   "cell_type": "markdown",
   "metadata": {
    "deletable": false,
    "editable": false,
    "nbgrader": {
     "cell_type": "markdown",
     "checksum": "dd04471f58e7261601b1864a24ca6674",
     "grade": false,
     "grade_id": "cell-49cadf2d59fe8a73",
     "locked": true,
     "schema_version": 3,
     "solution": false,
     "task": false
    }
   },
   "source": [
    "In the cell below, extract the cluster number of Meat Loaf's song and store it in `meat_loaf_cluster_id`. Also, create a Spark DataFrame `similar_songs` with the songs from that Meat Loaf's cluster."
   ]
  },
  {
   "cell_type": "code",
   "execution_count": null,
   "metadata": {
    "deletable": false,
    "nbgrader": {
     "cell_type": "code",
     "checksum": "55d2edb9fc90e36f24b6aa14d01fe796",
     "grade": false,
     "grade_id": "cell-a00df0d6d787f463",
     "locked": false,
     "schema_version": 3,
     "solution": true,
     "task": false
    }
   },
   "outputs": [],
   "source": [
    "# create variable meat_loaf_cluster_id and dataframe similar_songs\n",
    "# YOUR CODE HERE\n",
    "raise NotImplementedError()"
   ]
  },
  {
   "cell_type": "code",
   "execution_count": null,
   "metadata": {
    "deletable": false,
    "editable": false,
    "nbgrader": {
     "cell_type": "code",
     "checksum": "a833458a4dbf1a180b52ef8614d4e4d2",
     "grade": false,
     "grade_id": "cell-302c1478a060a0ea",
     "locked": true,
     "schema_version": 3,
     "solution": false,
     "task": false
    }
   },
   "outputs": [],
   "source": [
    "# use the following code to find suggestions\n",
    "similar_songs.select('song_title', 'artist').limit(10).toPandas()"
   ]
  },
  {
   "cell_type": "code",
   "execution_count": null,
   "metadata": {
    "deletable": false,
    "editable": false,
    "nbgrader": {
     "cell_type": "code",
     "checksum": "339f80f7483933d807412dc88650908b",
     "grade": true,
     "grade_id": "cell-03a2323e31cdc94b",
     "locked": true,
     "points": 10,
     "schema_version": 3,
     "solution": false,
     "task": false
    }
   },
   "outputs": [],
   "source": [
    "# 10 pts\n",
    "assert 0 <= meat_loaf_cluster_id <= 9\n",
    "assert similar_songs.count() < spotify.count()\n",
    "assert similar_songs.where('cluster == 0')\n",
    "assert similar_songs.where('cluster = ' + str(meat_loaf_cluster_id)).where('artist = \"Meat Loaf\"').count() == 1"
   ]
  },
  {
   "cell_type": "markdown",
   "metadata": {
    "deletable": false,
    "editable": false,
    "nbgrader": {
     "cell_type": "markdown",
     "checksum": "7bc7ef171710e7ee709bdb650f2fa62f",
     "grade": false,
     "grade_id": "cell-ebe6becbe9b232dc",
     "locked": true,
     "schema_version": 3,
     "solution": false,
     "task": false
    }
   },
   "source": [
    "One of the problems wih `KMeans` is that clusters are sometimes unbalanced. Analyze the clustering by creating a dataframe `cluster_analysis` where the first column is the cluster (`cluster`) and the second is the number of song for such cluster (`n_songs`)."
   ]
  },
  {
   "cell_type": "code",
   "execution_count": null,
   "metadata": {
    "deletable": false,
    "nbgrader": {
     "cell_type": "code",
     "checksum": "79d376a30f681a46d611c1a84a58fe2b",
     "grade": false,
     "grade_id": "cell-0cf6cfbf97ef52d2",
     "locked": false,
     "schema_version": 3,
     "solution": true,
     "task": false
    }
   },
   "outputs": [],
   "source": [
    "# create dataframe cluster_analysis\n",
    "# YOUR CODE HERE\n",
    "raise NotImplementedError()"
   ]
  },
  {
   "cell_type": "code",
   "execution_count": null,
   "metadata": {
    "deletable": false,
    "editable": false,
    "nbgrader": {
     "cell_type": "code",
     "checksum": "aee2d47fda35defef6772c3874a8ecfd",
     "grade": false,
     "grade_id": "cell-f312397af5fe1845",
     "locked": true,
     "schema_version": 3,
     "solution": false,
     "task": false
    }
   },
   "outputs": [],
   "source": [
    "# plot the results\n",
    "(cluster_analysis\n",
    " .toPandas()\n",
    " .sort_values('n_songs', ascending=False)\n",
    " .reset_index()\n",
    " .n_songs.plot(y='n_songs', kind='bar')\n",
    ");\n",
    "plt.xlabel('cluster rank')\n",
    "plt.ylabel('# songs');"
   ]
  },
  {
   "cell_type": "code",
   "execution_count": null,
   "metadata": {
    "deletable": false,
    "editable": false,
    "nbgrader": {
     "cell_type": "code",
     "checksum": "f57d5aed521c1bec8a4c07f5f8a22073",
     "grade": true,
     "grade_id": "cell-a361614c547b6d7e",
     "locked": true,
     "points": 5,
     "schema_version": 3,
     "solution": false,
     "task": false
    }
   },
   "outputs": [],
   "source": [
    "# 5 pts\n",
    "assert cluster_analysis.count() == 10\n",
    "assert type(cluster_analysis) == sql.dataframe.DataFrame"
   ]
  },
  {
   "cell_type": "code",
   "execution_count": null,
   "metadata": {},
   "outputs": [],
   "source": []
  }
 ],
 "metadata": {
  "kernelspec": {
   "display_name": "Python 3",
   "language": "python",
   "name": "python3"
  },
  "language_info": {
   "codemirror_mode": {
    "name": "ipython",
    "version": 3
   },
   "file_extension": ".py",
   "mimetype": "text/x-python",
   "name": "python",
   "nbconvert_exporter": "python",
   "pygments_lexer": "ipython3",
   "version": "3.8.3"
  }
 },
 "nbformat": 4,
 "nbformat_minor": 4
}
