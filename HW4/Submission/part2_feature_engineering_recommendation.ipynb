{
 "cells": [
  {
   "cell_type": "markdown",
   "metadata": {
    "deletable": false,
    "editable": false,
    "nbgrader": {
     "cell_type": "markdown",
     "checksum": "4bbd65eb54cb7560cb59caee50b28b51",
     "grade": false,
     "grade_id": "cell-ea82134f82431177",
     "locked": true,
     "schema_version": 3,
     "solution": false,
     "task": false
    }
   },
   "source": [
    "# IST 718: Big Data Analytics\n",
    "\n",
    "- Professor: Daniel Acuna <deacuna@syr.edu>\n",
    "\n",
    "## General instructions:\n",
    "\n",
    "- You are welcome to discuss the problems with your classmates but __you are not allowed to copy any part of your answers either from your classmates or from the internet__\n",
    "- You can put the homework files anywhere you want in your https://jupyterhub.ischool.syr.edu/ workspace but _do not change_ the file names. The TAs and the professor use these names to grade your homework.\n",
    "- Remove or comment out code that contains `raise NotImplementedError`. This is mainly to make the `assert` statement fail if nothing is submitted.\n",
    "- The tests shown in some cells (i.e., `assert` and `np.testing.` statements) are used to grade your answers. **However, the professor and TAs will use __additional__ test for your answer. Think about cases where your code should run even if it passess all the tests you see.**\n",
    "- Before downloading and submitting your work through Blackboard, remember to save and press `Validate` (or go to \n",
    "`Kernel`$\\rightarrow$`Restart and Run All`). \n",
    "- Good luck!"
   ]
  },
  {
   "cell_type": "code",
   "execution_count": 1,
   "metadata": {
    "deletable": false,
    "editable": false,
    "nbgrader": {
     "cell_type": "code",
     "checksum": "a51ca2d5dddbfdb45e3b76b0ef899544",
     "grade": false,
     "grade_id": "cell-82687de13c732ee5",
     "locked": true,
     "schema_version": 3,
     "solution": false,
     "task": false
    }
   },
   "outputs": [],
   "source": [
    "# Load the packages needed for this part\n",
    "# create spark and sparkcontext objects\n",
    "from pyspark.sql import SparkSession\n",
    "import numpy as np\n",
    "\n",
    "spark = SparkSession.builder.getOrCreate()\n",
    "sc = spark.sparkContext\n",
    "\n",
    "from pyspark.ml import feature, regression, Pipeline, pipeline, evaluation, tuning, clustering\n",
    "from pyspark.sql import types, Row, functions as fn\n",
    "from pyspark import sql\n",
    "import pandas as pd\n",
    "import matplotlib.pyplot as plt"
   ]
  },
  {
   "cell_type": "markdown",
   "metadata": {
    "deletable": false,
    "editable": false,
    "nbgrader": {
     "cell_type": "markdown",
     "checksum": "9ada9405a301f4693e9ae47b81abded9",
     "grade": false,
     "grade_id": "cell-2630ce7467b54878",
     "locked": true,
     "schema_version": 3,
     "solution": false,
     "task": false
    }
   },
   "source": [
    "# Part 2: Feature engineering and recommendation\n",
    "In this project, we are going to study a dataset of Spotify songs for which we have a number of features."
   ]
  },
  {
   "cell_type": "code",
   "execution_count": 2,
   "metadata": {
    "deletable": false,
    "editable": false,
    "nbgrader": {
     "cell_type": "code",
     "checksum": "4909ded8050ae821fac1a64acd7cd699",
     "grade": false,
     "grade_id": "cell-22862fe3fa46db88",
     "locked": true,
     "schema_version": 3,
     "solution": false,
     "task": false
    }
   },
   "outputs": [],
   "source": [
    "spotify = spark.read.csv('spotify_songs.csv', header=True, inferSchema=True)"
   ]
  },
  {
   "cell_type": "code",
   "execution_count": 3,
   "metadata": {
    "deletable": false,
    "editable": false,
    "nbgrader": {
     "cell_type": "code",
     "checksum": "f258e94531f333a3fcbcbe27163cb9e0",
     "grade": false,
     "grade_id": "cell-0159d0c180f1af5b",
     "locked": true,
     "schema_version": 3,
     "solution": false,
     "task": false
    }
   },
   "outputs": [
    {
     "data": {
      "text/html": [
       "<div>\n",
       "<style scoped>\n",
       "    .dataframe tbody tr th:only-of-type {\n",
       "        vertical-align: middle;\n",
       "    }\n",
       "\n",
       "    .dataframe tbody tr th {\n",
       "        vertical-align: top;\n",
       "    }\n",
       "\n",
       "    .dataframe thead th {\n",
       "        text-align: right;\n",
       "    }\n",
       "</style>\n",
       "<table border=\"1\" class=\"dataframe\">\n",
       "  <thead>\n",
       "    <tr style=\"text-align: right;\">\n",
       "      <th></th>\n",
       "      <th>song_title</th>\n",
       "      <th>artist</th>\n",
       "      <th>acousticness</th>\n",
       "      <th>danceability</th>\n",
       "      <th>duration_ms</th>\n",
       "      <th>energy</th>\n",
       "      <th>instrumentalness</th>\n",
       "      <th>key</th>\n",
       "      <th>liveness</th>\n",
       "      <th>loudness</th>\n",
       "      <th>mode</th>\n",
       "      <th>speechiness</th>\n",
       "      <th>tempo</th>\n",
       "      <th>time_signature</th>\n",
       "      <th>valence</th>\n",
       "    </tr>\n",
       "  </thead>\n",
       "  <tbody>\n",
       "    <tr>\n",
       "      <th>0</th>\n",
       "      <td>Mask Off</td>\n",
       "      <td>Future</td>\n",
       "      <td>0.0102</td>\n",
       "      <td>0.833</td>\n",
       "      <td>204600</td>\n",
       "      <td>0.434</td>\n",
       "      <td>0.021900</td>\n",
       "      <td>2</td>\n",
       "      <td>0.1650</td>\n",
       "      <td>-8.795</td>\n",
       "      <td>1</td>\n",
       "      <td>0.4310</td>\n",
       "      <td>150.062</td>\n",
       "      <td>4.0</td>\n",
       "      <td>0.286</td>\n",
       "    </tr>\n",
       "    <tr>\n",
       "      <th>1</th>\n",
       "      <td>Redbone</td>\n",
       "      <td>Childish Gambino</td>\n",
       "      <td>0.1990</td>\n",
       "      <td>0.743</td>\n",
       "      <td>326933</td>\n",
       "      <td>0.359</td>\n",
       "      <td>0.006110</td>\n",
       "      <td>1</td>\n",
       "      <td>0.1370</td>\n",
       "      <td>-10.401</td>\n",
       "      <td>1</td>\n",
       "      <td>0.0794</td>\n",
       "      <td>160.083</td>\n",
       "      <td>4.0</td>\n",
       "      <td>0.588</td>\n",
       "    </tr>\n",
       "    <tr>\n",
       "      <th>2</th>\n",
       "      <td>Xanny Family</td>\n",
       "      <td>Future</td>\n",
       "      <td>0.0344</td>\n",
       "      <td>0.838</td>\n",
       "      <td>185707</td>\n",
       "      <td>0.412</td>\n",
       "      <td>0.000234</td>\n",
       "      <td>2</td>\n",
       "      <td>0.1590</td>\n",
       "      <td>-7.148</td>\n",
       "      <td>1</td>\n",
       "      <td>0.2890</td>\n",
       "      <td>75.044</td>\n",
       "      <td>4.0</td>\n",
       "      <td>0.173</td>\n",
       "    </tr>\n",
       "    <tr>\n",
       "      <th>3</th>\n",
       "      <td>Master Of None</td>\n",
       "      <td>Beach House</td>\n",
       "      <td>0.6040</td>\n",
       "      <td>0.494</td>\n",
       "      <td>199413</td>\n",
       "      <td>0.338</td>\n",
       "      <td>0.510000</td>\n",
       "      <td>5</td>\n",
       "      <td>0.0922</td>\n",
       "      <td>-15.236</td>\n",
       "      <td>1</td>\n",
       "      <td>0.0261</td>\n",
       "      <td>86.468</td>\n",
       "      <td>4.0</td>\n",
       "      <td>0.230</td>\n",
       "    </tr>\n",
       "    <tr>\n",
       "      <th>4</th>\n",
       "      <td>Parallel Lines</td>\n",
       "      <td>Junior Boys</td>\n",
       "      <td>0.1800</td>\n",
       "      <td>0.678</td>\n",
       "      <td>392893</td>\n",
       "      <td>0.561</td>\n",
       "      <td>0.512000</td>\n",
       "      <td>5</td>\n",
       "      <td>0.4390</td>\n",
       "      <td>-11.648</td>\n",
       "      <td>0</td>\n",
       "      <td>0.0694</td>\n",
       "      <td>174.004</td>\n",
       "      <td>4.0</td>\n",
       "      <td>0.904</td>\n",
       "    </tr>\n",
       "  </tbody>\n",
       "</table>\n",
       "</div>"
      ],
      "text/plain": [
       "       song_title            artist  acousticness  danceability  duration_ms  \\\n",
       "0        Mask Off            Future        0.0102         0.833       204600   \n",
       "1         Redbone  Childish Gambino        0.1990         0.743       326933   \n",
       "2    Xanny Family            Future        0.0344         0.838       185707   \n",
       "3  Master Of None       Beach House        0.6040         0.494       199413   \n",
       "4  Parallel Lines       Junior Boys        0.1800         0.678       392893   \n",
       "\n",
       "   energy  instrumentalness  key  liveness  loudness  mode  speechiness  \\\n",
       "0   0.434          0.021900    2    0.1650    -8.795     1       0.4310   \n",
       "1   0.359          0.006110    1    0.1370   -10.401     1       0.0794   \n",
       "2   0.412          0.000234    2    0.1590    -7.148     1       0.2890   \n",
       "3   0.338          0.510000    5    0.0922   -15.236     1       0.0261   \n",
       "4   0.561          0.512000    5    0.4390   -11.648     0       0.0694   \n",
       "\n",
       "     tempo  time_signature  valence  \n",
       "0  150.062             4.0    0.286  \n",
       "1  160.083             4.0    0.588  \n",
       "2   75.044             4.0    0.173  \n",
       "3   86.468             4.0    0.230  \n",
       "4  174.004             4.0    0.904  "
      ]
     },
     "execution_count": 3,
     "metadata": {},
     "output_type": "execute_result"
    }
   ],
   "source": [
    "spotify.limit(5).toPandas()"
   ]
  },
  {
   "cell_type": "markdown",
   "metadata": {
    "deletable": false,
    "editable": false,
    "nbgrader": {
     "cell_type": "markdown",
     "checksum": "806d48926198c5097b3b963c79724a61",
     "grade": false,
     "grade_id": "cell-1f1b07ffe91f6dec",
     "locked": true,
     "schema_version": 3,
     "solution": false,
     "task": false
    }
   },
   "source": [
    "## Question 1. (10 pts)\n",
    "First, we will try to understand how the duration, tempo, and key are related to danceability. Unfortunately, each of these features is in different scales, and the feature key is categorical.\n",
    "\n",
    "Create a pipeline model (i.e., fitted pipeline) called `featurize` that performs the following feature engineering steps\n",
    "- Standardizes `duration_ms` and `tempo` (you have to combine `feature.VectorAssembler` with `feature.StandardScaler`)\n",
    "- Create dummy variables for `key` (you have to use `feature.OneHotEncoder`. This encoder uses the *last category* as the baseline. Be careful when interpreting it)\n",
    "\n",
    "You have to create a last step in this featurizer that combines the two kinds of engineered features into a column called `features` "
   ]
  },
  {
   "cell_type": "code",
   "execution_count": 4,
   "metadata": {
    "deletable": false,
    "nbgrader": {
     "cell_type": "code",
     "checksum": "bb20ea25b02c768d686ec4b13d0465dc",
     "grade": false,
     "grade_id": "cell-5a5620124b0491d5",
     "locked": false,
     "schema_version": 3,
     "solution": true,
     "task": false
    }
   },
   "outputs": [],
   "source": [
    "# create pipeline to produce principal components of data\n",
    "# YOUR CODE HERE\n",
    "#raise NotImplementedError()\n",
    "\n",
    "featurize = Pipeline(stages =[ feature.VectorAssembler(inputCols = ['duration_ms','tempo' ],outputCol= 'features1'),\n",
    "                               feature.StandardScaler(withMean = True,withStd = True, inputCol = 'features1',\n",
    "                                                      outputCol = 'zfeatures'),\n",
    "                              feature.OneHotEncoder(inputCol='key',outputCol='features2'),\n",
    "                              feature.VectorAssembler(inputCols = ['zfeatures','features2'], outputCol = 'features')\n",
    "]).fit(spotify)\n"
   ]
  },
  {
   "cell_type": "code",
   "execution_count": 5,
   "metadata": {
    "deletable": false,
    "editable": false,
    "nbgrader": {
     "cell_type": "code",
     "checksum": "fe3df11c51fa299cdf94d759e7df23c7",
     "grade": false,
     "grade_id": "cell-513db569bfea676e",
     "locked": true,
     "schema_version": 3,
     "solution": false,
     "task": false
    }
   },
   "outputs": [
    {
     "data": {
      "text/plain": [
       "array([-0.50704547,  1.06628469,  0.        ,  0.        ,  1.        ,\n",
       "        0.        ,  0.        ,  0.        ,  0.        ,  0.        ,\n",
       "        0.        ,  0.        ,  0.        ])"
      ]
     },
     "execution_count": 5,
     "metadata": {},
     "output_type": "execute_result"
    }
   ],
   "source": [
    "# test the featurizer here\n",
    "featurize.transform(spotify).select('features').first().features.toArray()"
   ]
  },
  {
   "cell_type": "code",
   "execution_count": 6,
   "metadata": {
    "deletable": false,
    "editable": false,
    "nbgrader": {
     "cell_type": "code",
     "checksum": "6afbdbe2d955a1d630ac4f80ce0228b3",
     "grade": true,
     "grade_id": "cell-6f7a3cd2f316b81b",
     "locked": true,
     "points": 10,
     "schema_version": 3,
     "solution": false,
     "task": false
    }
   },
   "outputs": [],
   "source": [
    "# 10 pts\n",
    "assert type(featurize) == pipeline.PipelineModel\n",
    "assert feature.StandardScalerModel in list(map(type, featurize.stages))\n",
    "assert feature.OneHotEncoderModel in list(map(type, featurize.stages))\n",
    "assert feature.VectorAssembler in list(map(type, featurize.stages))\n",
    "assert len(featurize.transform(spotify).select('features').first().features.toArray()) == 13"
   ]
  },
  {
   "cell_type": "markdown",
   "metadata": {
    "deletable": false,
    "editable": false,
    "nbgrader": {
     "cell_type": "markdown",
     "checksum": "1493a69b0419db24732fa00978f49d22",
     "grade": false,
     "grade_id": "cell-161e4a92fa10208c",
     "locked": true,
     "schema_version": 3,
     "solution": false,
     "task": false
    }
   },
   "source": [
    "## Question 2: (20 pts)\n",
    "We will now compare a model without feature engineering to one with feature engineering.\n",
    "\n",
    "First, create a vanilla pipeline model (i.e., fitted pipeline) that takes `duration_ms`, `tempo`, and `key` without any feature engineering and assembles them into a column `features`. Call this pipeline `vanilla_features`"
   ]
  },
  {
   "cell_type": "code",
   "execution_count": 7,
   "metadata": {
    "deletable": false,
    "nbgrader": {
     "cell_type": "code",
     "checksum": "1b9b5ab07001b6b1dfd47d9000debfbc",
     "grade": false,
     "grade_id": "cell-3b2c9d0e4d2d2d9e",
     "locked": false,
     "schema_version": 3,
     "solution": true,
     "task": false
    }
   },
   "outputs": [],
   "source": [
    "# create pipeline for vanilla featurizer\n",
    "# YOUR CODE HERE\n",
    "#raise NotImplementedError()\n",
    "\n",
    "vanilla_features = Pipeline(stages = [feature.VectorAssembler(inputCols = ['duration_ms','tempo','key'],\n",
    "                                                              outputCol = 'features')]).fit(spotify)"
   ]
  },
  {
   "cell_type": "code",
   "execution_count": 8,
   "metadata": {
    "deletable": false,
    "editable": false,
    "nbgrader": {
     "cell_type": "code",
     "checksum": "60137f45f45a3825863da4b58b1457b7",
     "grade": false,
     "grade_id": "cell-175d52e589142129",
     "locked": true,
     "schema_version": 3,
     "solution": false,
     "task": false
    }
   },
   "outputs": [
    {
     "data": {
      "text/plain": [
       "array([2.04600e+05, 1.50062e+02, 2.00000e+00])"
      ]
     },
     "execution_count": 8,
     "metadata": {},
     "output_type": "execute_result"
    }
   ],
   "source": [
    "# test your pipeline\n",
    "vanilla_features.transform(spotify).first().features.toArray()"
   ]
  },
  {
   "cell_type": "code",
   "execution_count": 9,
   "metadata": {
    "deletable": false,
    "editable": false,
    "nbgrader": {
     "cell_type": "code",
     "checksum": "1defc5f82ef09b2582ba1a45e0597b9b",
     "grade": true,
     "grade_id": "cell-0ae4fa373495965d",
     "locked": true,
     "points": 5,
     "schema_version": 3,
     "solution": false,
     "task": false
    }
   },
   "outputs": [],
   "source": [
    "# 5 pts\n",
    "assert type(vanilla_features) == pipeline.PipelineModel\n",
    "assert len(vanilla_features.transform(spotify).select('features').first().features.toArray()) == 3"
   ]
  },
  {
   "cell_type": "markdown",
   "metadata": {
    "deletable": false,
    "editable": false,
    "nbgrader": {
     "cell_type": "markdown",
     "checksum": "46f8ce364e02aae49d466b92babaa309",
     "grade": false,
     "grade_id": "cell-affc89c9166ccc16",
     "locked": true,
     "schema_version": 3,
     "solution": false,
     "task": false
    }
   },
   "source": [
    "Now, create two regression pipeline estimators (don't fit them) `model_fe` and `model_vanilla` where `model_fe` uses the featurizer from Question 1 to create the features and `model_vanilla` creates the features using the previous pipeline. Remember that you are predicting `danceability`."
   ]
  },
  {
   "cell_type": "code",
   "execution_count": 10,
   "metadata": {
    "deletable": false,
    "nbgrader": {
     "cell_type": "code",
     "checksum": "e021c617a24cbafb81c962a05c7c6852",
     "grade": false,
     "grade_id": "cell-bb8f0e69179dfc92",
     "locked": false,
     "schema_version": 3,
     "solution": true,
     "task": false
    }
   },
   "outputs": [],
   "source": [
    "# create pipeline for models\n",
    "# YOUR CODE HERE\n",
    "#raise NotImplementedError()\n",
    "\n",
    "model_fe = Pipeline(stages =[ featurize,\n",
    "                              regression.LinearRegression(labelCol= 'danceability',featuresCol= 'features')\n",
    "])\n",
    "\n",
    "model_vanilla = Pipeline(stages = [feature.VectorAssembler(inputCols = ['duration_ms','tempo','key'],\n",
    "                                                              outputCol = 'features'),\n",
    "                                   regression.LinearRegression(labelCol = 'danceability',featuresCol = 'features')\n",
    "])"
   ]
  },
  {
   "cell_type": "code",
   "execution_count": 11,
   "metadata": {
    "deletable": false,
    "editable": false,
    "nbgrader": {
     "cell_type": "code",
     "checksum": "efb05e3c87091f85cc31e0264c706bf9",
     "grade": true,
     "grade_id": "cell-7a350de8eb6ac6c6",
     "locked": true,
     "points": 5,
     "schema_version": 3,
     "solution": false,
     "task": false
    }
   },
   "outputs": [],
   "source": [
    "# 5 pts\n",
    "assert type(model_fe) == pipeline.Pipeline\n",
    "assert len(model_fe.getStages()) == 2\n",
    "assert type(model_vanilla) == pipeline.Pipeline\n",
    "assert len(model_vanilla.getStages()) == 2"
   ]
  },
  {
   "cell_type": "markdown",
   "metadata": {
    "deletable": false,
    "editable": false,
    "nbgrader": {
     "cell_type": "markdown",
     "checksum": "bf15bfeedde3217c1c85d561b5905d04",
     "grade": false,
     "grade_id": "cell-1a4e8f7138cb43f6",
     "locked": true,
     "schema_version": 3,
     "solution": false,
     "task": false
    }
   },
   "source": [
    "With the code below, we will evaluate the performance of each of the models and print them"
   ]
  },
  {
   "cell_type": "code",
   "execution_count": 12,
   "metadata": {
    "deletable": false,
    "editable": false,
    "nbgrader": {
     "cell_type": "code",
     "checksum": "a5ace4ed85fe47b870b6070a0c493ef9",
     "grade": false,
     "grade_id": "cell-2419afab17d35023",
     "locked": true,
     "schema_version": 3,
     "solution": false,
     "task": false
    }
   },
   "outputs": [
    {
     "name": "stdout",
     "output_type": "stream",
     "text": [
      "RMSE model_fe:  0.16062889324651253\n",
      "RMSE model_vanilla:  0.1609551207566255\n"
     ]
    }
   ],
   "source": [
    "regression_evaluator = evaluation.RegressionEvaluator(labelCol='danceability', metricName='rmse')\n",
    "training_df, validation_df = spotify.randomSplit([0.8, 0.2], seed=0)\n",
    "\n",
    "print(\"RMSE model_fe: \", regression_evaluator.evaluate(model_fe.fit(training_df).transform(validation_df)))\n",
    "print(\"RMSE model_vanilla: \", regression_evaluator.evaluate(model_vanilla.fit(training_df).transform(validation_df)))"
   ]
  },
  {
   "cell_type": "markdown",
   "metadata": {
    "deletable": false,
    "editable": false,
    "nbgrader": {
     "cell_type": "markdown",
     "checksum": "77e0c976c9a5bcb03195965e11d4bd74",
     "grade": false,
     "grade_id": "cell-51ee5dfba6979007",
     "locked": true,
     "schema_version": 3,
     "solution": false,
     "task": false
    }
   },
   "source": [
    "**(10 pts)** Based on the results above, what can you say about the model with feature engineering. Is there are big difference in performance? If not, why would it be worth doing feature engineering anyway? Answer below"
   ]
  },
  {
   "cell_type": "markdown",
   "metadata": {
    "deletable": false,
    "nbgrader": {
     "cell_type": "markdown",
     "checksum": "f846285557a4c2ac73fc513a21291e8f",
     "grade": true,
     "grade_id": "cell-1d8909974e146b83",
     "locked": false,
     "points": 10,
     "schema_version": 3,
     "solution": true,
     "task": false
    }
   },
   "source": [
    "The RMSE is more or less same for both (0.16062,0.16095). Generally feature engineering is done to increase the model performance. But here only standardization and onehotencodermodel are used, so it didnot make much of a difference in features."
   ]
  },
  {
   "cell_type": "markdown",
   "metadata": {
    "deletable": false,
    "editable": false,
    "nbgrader": {
     "cell_type": "markdown",
     "checksum": "5a9cad8b467303a13af7461bee9ce92f",
     "grade": false,
     "grade_id": "cell-0ab7897869aab38d",
     "locked": true,
     "schema_version": 3,
     "solution": false,
     "task": false
    }
   },
   "source": [
    "## Question 3: (25 pts) Clustering\n",
    "\n",
    "We will now make recommendation of songs based on k-means. Create a pipeline where you fit a 10-cluster KMeans to the following features **after standardization**"
   ]
  },
  {
   "cell_type": "code",
   "execution_count": 13,
   "metadata": {
    "deletable": false,
    "editable": false,
    "nbgrader": {
     "cell_type": "code",
     "checksum": "0bb018c9752226b544ca6dd6ec55e9cf",
     "grade": false,
     "grade_id": "cell-49a99ed8972a8216",
     "locked": true,
     "schema_version": 3,
     "solution": false,
     "task": false
    }
   },
   "outputs": [],
   "source": [
    "feature_list = ['acousticness',\n",
    " 'danceability',\n",
    " 'duration_ms',\n",
    " 'energy',\n",
    " 'instrumentalness',\n",
    " 'key',\n",
    " 'liveness',\n",
    " 'loudness',\n",
    " 'mode',\n",
    " 'speechiness',\n",
    " 'tempo',\n",
    " 'time_signature',\n",
    " 'valence']"
   ]
  },
  {
   "cell_type": "markdown",
   "metadata": {
    "deletable": false,
    "editable": false,
    "nbgrader": {
     "cell_type": "markdown",
     "checksum": "4229bb537cd27b19e655e94922fe99cf",
     "grade": false,
     "grade_id": "cell-9375d973d5f3234e",
     "locked": true,
     "schema_version": 3,
     "solution": false,
     "task": false
    }
   },
   "source": [
    "Name the pipeline `spotify_clustering` and make sure that the `KMeans` model has a prediction column called `cluster`"
   ]
  },
  {
   "cell_type": "code",
   "execution_count": 14,
   "metadata": {
    "deletable": false,
    "nbgrader": {
     "cell_type": "code",
     "checksum": "ffa0102bc9927fac38c94c356223c40f",
     "grade": false,
     "grade_id": "cell-29011988b6f5131b",
     "locked": false,
     "schema_version": 3,
     "solution": true,
     "task": false
    }
   },
   "outputs": [],
   "source": [
    "# create pipeline spotify_clustering\n",
    "# YOUR CODE HERE\n",
    "#raise NotImplementedError()\n",
    "\n",
    "spotify_clustering = Pipeline(stages = [feature.VectorAssembler(inputCols= feature_list,outputCol= 'feature1'),\n",
    "                                        feature.StandardScaler(withMean = True,withStd =True, inputCol = 'feature1',outputCol = 'zfeature'),\n",
    "                                        clustering.KMeans(k=10,featuresCol = 'zfeature',predictionCol= 'cluster')\n",
    "    \n",
    "]).fit(spotify)"
   ]
  },
  {
   "cell_type": "code",
   "execution_count": 15,
   "metadata": {
    "deletable": false,
    "editable": false,
    "nbgrader": {
     "cell_type": "code",
     "checksum": "16ad85c0b992f71491ce3bcdfc0d36f9",
     "grade": true,
     "grade_id": "cell-969784dbada4f673",
     "locked": true,
     "points": 10,
     "schema_version": 3,
     "solution": false,
     "task": false
    }
   },
   "outputs": [],
   "source": [
    "# 10 pts\n",
    "assert type(spotify_clustering) == pipeline.PipelineModel\n",
    "assert feature.StandardScalerModel in set(map(type, spotify_clustering.stages))\n",
    "assert spotify_clustering.stages[-1].extractParamMap()[(spotify_clustering.stages[-1].k)] == 10\n",
    "assert spotify_clustering.stages[-1].extractParamMap()[(spotify_clustering.stages[-1].predictionCol)] == 'cluster'"
   ]
  },
  {
   "cell_type": "markdown",
   "metadata": {
    "deletable": false,
    "editable": false,
    "nbgrader": {
     "cell_type": "markdown",
     "checksum": "8be505fb117728237ba9ff3a40a65aae",
     "grade": false,
     "grade_id": "cell-33d174e9a80adc58",
     "locked": true,
     "schema_version": 3,
     "solution": false,
     "task": false
    }
   },
   "source": [
    "As you all know, the professor is a big fan of Meat Loaf (the artists, obviously) and his song \"I will do anything for love (But I won't do that)\" because it is close to the professor's mantra: \"I will do anything for data (But I won't overfit)\"."
   ]
  },
  {
   "cell_type": "code",
   "execution_count": 16,
   "metadata": {
    "deletable": false,
    "editable": false,
    "nbgrader": {
     "cell_type": "code",
     "checksum": "6ff78a5af498c231cf31b221a7645f84",
     "grade": false,
     "grade_id": "cell-49e60b7f02c37478",
     "locked": true,
     "schema_version": 3,
     "solution": false,
     "task": false
    }
   },
   "outputs": [
    {
     "name": "stdout",
     "output_type": "stream",
     "text": [
      "I'd Do Anything For Love (But I Won't Do That)\n"
     ]
    }
   ],
   "source": [
    "meat_loaf = spotify.where(fn.col('artist') == \"Meat Loaf\")\n",
    "print(meat_loaf.first().song_title)"
   ]
  },
  {
   "cell_type": "markdown",
   "metadata": {
    "deletable": false,
    "editable": false,
    "nbgrader": {
     "cell_type": "markdown",
     "checksum": "dd04471f58e7261601b1864a24ca6674",
     "grade": false,
     "grade_id": "cell-49cadf2d59fe8a73",
     "locked": true,
     "schema_version": 3,
     "solution": false,
     "task": false
    }
   },
   "source": [
    "In the cell below, extract the cluster number of Meat Loaf's song and store it in `meat_loaf_cluster_id`. Also, create a Spark DataFrame `similar_songs` with the songs from that Meat Loaf's cluster."
   ]
  },
  {
   "cell_type": "code",
   "execution_count": 17,
   "metadata": {
    "deletable": false,
    "nbgrader": {
     "cell_type": "code",
     "checksum": "55d2edb9fc90e36f24b6aa14d01fe796",
     "grade": false,
     "grade_id": "cell-a00df0d6d787f463",
     "locked": false,
     "schema_version": 3,
     "solution": true,
     "task": false
    }
   },
   "outputs": [],
   "source": [
    "# create variable meat_loaf_cluster_id and dataframe similar_songs\n",
    "# YOUR CODE HERE\n",
    "#raise NotImplementedError()\n",
    "clust = spotify_clustering.transform(spotify)\n",
    "\n",
    "meat_loaf_cluster_id = clust.select(fn.col('cluster')).where( fn.col('song_title')==meat_loaf.first().song_title).collect()[0][0]\n",
    "similar_songs = clust.select('*').where(fn.col('cluster')== meat_loaf_cluster_id)\n"
   ]
  },
  {
   "cell_type": "code",
   "execution_count": 18,
   "metadata": {},
   "outputs": [
    {
     "data": {
      "text/plain": [
       "183"
      ]
     },
     "execution_count": 18,
     "metadata": {},
     "output_type": "execute_result"
    }
   ],
   "source": [
    "similar_songs.count()"
   ]
  },
  {
   "cell_type": "code",
   "execution_count": 19,
   "metadata": {
    "deletable": false,
    "editable": false,
    "nbgrader": {
     "cell_type": "code",
     "checksum": "a833458a4dbf1a180b52ef8614d4e4d2",
     "grade": false,
     "grade_id": "cell-302c1478a060a0ea",
     "locked": true,
     "schema_version": 3,
     "solution": false,
     "task": false
    }
   },
   "outputs": [
    {
     "data": {
      "text/html": [
       "<div>\n",
       "<style scoped>\n",
       "    .dataframe tbody tr th:only-of-type {\n",
       "        vertical-align: middle;\n",
       "    }\n",
       "\n",
       "    .dataframe tbody tr th {\n",
       "        vertical-align: top;\n",
       "    }\n",
       "\n",
       "    .dataframe thead th {\n",
       "        text-align: right;\n",
       "    }\n",
       "</style>\n",
       "<table border=\"1\" class=\"dataframe\">\n",
       "  <thead>\n",
       "    <tr style=\"text-align: right;\">\n",
       "      <th></th>\n",
       "      <th>song_title</th>\n",
       "      <th>artist</th>\n",
       "    </tr>\n",
       "  </thead>\n",
       "  <tbody>\n",
       "    <tr>\n",
       "      <th>0</th>\n",
       "      <td>Master Of None</td>\n",
       "      <td>Beach House</td>\n",
       "    </tr>\n",
       "    <tr>\n",
       "      <th>1</th>\n",
       "      <td>Cemalim</td>\n",
       "      <td>Erkin Koray</td>\n",
       "    </tr>\n",
       "    <tr>\n",
       "      <th>2</th>\n",
       "      <td>One Night</td>\n",
       "      <td>Lil Yachty</td>\n",
       "    </tr>\n",
       "    <tr>\n",
       "      <th>3</th>\n",
       "      <td>Please Stop Making Fake Versace</td>\n",
       "      <td>Father</td>\n",
       "    </tr>\n",
       "    <tr>\n",
       "      <th>4</th>\n",
       "      <td>Coming Home</td>\n",
       "      <td>Leon Bridges</td>\n",
       "    </tr>\n",
       "    <tr>\n",
       "      <th>5</th>\n",
       "      <td>L$D</td>\n",
       "      <td>A$AP Rocky</td>\n",
       "    </tr>\n",
       "    <tr>\n",
       "      <th>6</th>\n",
       "      <td>Baby</td>\n",
       "      <td>Ariel Pink's Haunted Graffiti</td>\n",
       "    </tr>\n",
       "    <tr>\n",
       "      <th>7</th>\n",
       "      <td>Sabali</td>\n",
       "      <td>Amadou &amp; Mariam</td>\n",
       "    </tr>\n",
       "    <tr>\n",
       "      <th>8</th>\n",
       "      <td>I Shall Be Released - Remastered</td>\n",
       "      <td>Nina Simone</td>\n",
       "    </tr>\n",
       "    <tr>\n",
       "      <th>9</th>\n",
       "      <td>Will You Love Me Tomorrow</td>\n",
       "      <td>The Shirelles</td>\n",
       "    </tr>\n",
       "  </tbody>\n",
       "</table>\n",
       "</div>"
      ],
      "text/plain": [
       "                         song_title                         artist\n",
       "0                    Master Of None                    Beach House\n",
       "1                           Cemalim                    Erkin Koray\n",
       "2                         One Night                     Lil Yachty\n",
       "3   Please Stop Making Fake Versace                         Father\n",
       "4                       Coming Home                   Leon Bridges\n",
       "5                               L$D                     A$AP Rocky\n",
       "6                              Baby  Ariel Pink's Haunted Graffiti\n",
       "7                            Sabali                Amadou & Mariam\n",
       "8  I Shall Be Released - Remastered                    Nina Simone\n",
       "9         Will You Love Me Tomorrow                  The Shirelles"
      ]
     },
     "execution_count": 19,
     "metadata": {},
     "output_type": "execute_result"
    }
   ],
   "source": [
    "# use the following code to find suggestions\n",
    "similar_songs.select('song_title', 'artist').limit(10).toPandas()"
   ]
  },
  {
   "cell_type": "code",
   "execution_count": 20,
   "metadata": {
    "deletable": false,
    "editable": false,
    "nbgrader": {
     "cell_type": "code",
     "checksum": "339f80f7483933d807412dc88650908b",
     "grade": true,
     "grade_id": "cell-03a2323e31cdc94b",
     "locked": true,
     "points": 10,
     "schema_version": 3,
     "solution": false,
     "task": false
    }
   },
   "outputs": [],
   "source": [
    "# 10 pts\n",
    "assert 0 <= meat_loaf_cluster_id <= 9\n",
    "assert similar_songs.count() < spotify.count()\n",
    "assert similar_songs.where('cluster == 0')\n",
    "assert similar_songs.where('cluster = ' + str(meat_loaf_cluster_id)).where('artist = \"Meat Loaf\"').count() == 1"
   ]
  },
  {
   "cell_type": "markdown",
   "metadata": {
    "deletable": false,
    "editable": false,
    "nbgrader": {
     "cell_type": "markdown",
     "checksum": "7bc7ef171710e7ee709bdb650f2fa62f",
     "grade": false,
     "grade_id": "cell-ebe6becbe9b232dc",
     "locked": true,
     "schema_version": 3,
     "solution": false,
     "task": false
    }
   },
   "source": [
    "One of the problems wih `KMeans` is that clusters are sometimes unbalanced. Analyze the clustering by creating a dataframe `cluster_analysis` where the first column is the cluster (`cluster`) and the second is the number of song for such cluster (`n_songs`)."
   ]
  },
  {
   "cell_type": "code",
   "execution_count": 21,
   "metadata": {
    "deletable": false,
    "nbgrader": {
     "cell_type": "code",
     "checksum": "79d376a30f681a46d611c1a84a58fe2b",
     "grade": false,
     "grade_id": "cell-0cf6cfbf97ef52d2",
     "locked": false,
     "schema_version": 3,
     "solution": true,
     "task": false
    }
   },
   "outputs": [
    {
     "name": "stdout",
     "output_type": "stream",
     "text": [
      "+-------+-------+\n",
      "|cluster|n_songs|\n",
      "+-------+-------+\n",
      "|      0|    121|\n",
      "|      1|    183|\n",
      "|      2|    399|\n",
      "|      3|    118|\n",
      "|      4|    112|\n",
      "|      5|     86|\n",
      "|      6|    273|\n",
      "|      7|    327|\n",
      "|      8|    211|\n",
      "|      9|    179|\n",
      "+-------+-------+\n",
      "\n"
     ]
    }
   ],
   "source": [
    "# create dataframe cluster_analysis\n",
    "# YOUR CODE HERE\n",
    "#raise NotImplementedError()\n",
    "\n",
    "cluster_analysis = clust.groupBy('cluster').agg(fn.count('cluster').alias('n_songs')).orderBy('cluster',ascending = True)\n",
    "cluster_analysis.show()"
   ]
  },
  {
   "cell_type": "code",
   "execution_count": 22,
   "metadata": {
    "deletable": false,
    "editable": false,
    "nbgrader": {
     "cell_type": "code",
     "checksum": "aee2d47fda35defef6772c3874a8ecfd",
     "grade": false,
     "grade_id": "cell-f312397af5fe1845",
     "locked": true,
     "schema_version": 3,
     "solution": false,
     "task": false
    }
   },
   "outputs": [
    {
     "data": {
      "image/png": "[encoded data removed]",
      "text/plain": [
       "<Figure size 432x288 with 1 Axes>"
      ]
     },
     "metadata": {
      "needs_background": "light"
     },
     "output_type": "display_data"
    }
   ],
   "source": [
    "# plot the results\n",
    "(cluster_analysis\n",
    " .toPandas()\n",
    " .sort_values('n_songs', ascending=False)\n",
    " .reset_index()\n",
    " .n_songs.plot(y='n_songs', kind='bar')\n",
    ");\n",
    "plt.xlabel('cluster rank')\n",
    "plt.ylabel('# songs');"
   ]
  },
  {
   "cell_type": "code",
   "execution_count": 23,
   "metadata": {
    "deletable": false,
    "editable": false,
    "nbgrader": {
     "cell_type": "code",
     "checksum": "f57d5aed521c1bec8a4c07f5f8a22073",
     "grade": true,
     "grade_id": "cell-a361614c547b6d7e",
     "locked": true,
     "points": 5,
     "schema_version": 3,
     "solution": false,
     "task": false
    }
   },
   "outputs": [],
   "source": [
    "# 5 pts\n",
    "assert cluster_analysis.count() == 10\n",
    "assert type(cluster_analysis) == sql.dataframe.DataFrame"
   ]
  },
  {
   "cell_type": "code",
   "execution_count": null,
   "metadata": {},
   "outputs": [],
   "source": []
  }
 ],
 "metadata": {
  "kernelspec": {
   "display_name": "Python 3",
   "language": "python",
   "name": "python3"
  },
  "language_info": {
   "codemirror_mode": {
    "name": "ipython",
    "version": 3
   },
   "file_extension": ".py",
   "mimetype": "text/x-python",
   "name": "python",
   "nbconvert_exporter": "python",
   "pygments_lexer": "ipython3",
   "version": "3.8.8"
  },
  "latex_envs": {
   "LaTeX_envs_menu_present": true,
   "autoclose": false,
   "autocomplete": true,
   "bibliofile": "biblio.bib",
   "cite_by": "apalike",
   "current_citInitial": 1,
   "eqLabelWithNumbers": true,
   "eqNumInitial": 1,
   "hotkeys": {
    "equation": "Ctrl-E",
    "itemize": "Ctrl-I"
   },
   "labels_anchors": false,
   "latex_user_defs": false,
   "report_style_numbering": false,
   "user_envs_cfg": false
  },
  "toc": {
   "base_numbering": 1,
   "nav_menu": {},
   "number_sections": true,
   "sideBar": true,
   "skip_h1_title": false,
   "title_cell": "Table of Contents",
   "title_sidebar": "Contents",
   "toc_cell": false,
   "toc_position": {},
   "toc_section_display": true,
   "toc_window_display": false
  }
 },
 "nbformat": 4,
 "nbformat_minor": 4
}
